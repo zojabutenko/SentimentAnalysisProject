{
  "cells": [
    {
      "cell_type": "markdown",
      "source": [
        "# IMPORTS AND STUFF"
      ],
      "metadata": {
        "id": "iKF2fZZz1soI"
      }
    },
    {
      "cell_type": "code",
      "execution_count": null,
      "metadata": {
        "colab": {
          "base_uri": "https://localhost:8080/"
        },
        "id": "rwRcUbbNKFhS",
        "outputId": "4044bf67-987a-4e49-9954-28906c2c010d"
      },
      "outputs": [
        {
          "output_type": "stream",
          "name": "stdout",
          "text": [
            "Looking in indexes: https://pypi.org/simple, https://us-python.pkg.dev/colab-wheels/public/simple/\n",
            "Requirement already satisfied: stanza in /usr/local/lib/python3.8/dist-packages (1.4.2)\n",
            "Requirement already satisfied: six in /usr/local/lib/python3.8/dist-packages (from stanza) (1.15.0)\n",
            "Requirement already satisfied: tqdm in /usr/local/lib/python3.8/dist-packages (from stanza) (4.64.1)\n",
            "Requirement already satisfied: protobuf in /usr/local/lib/python3.8/dist-packages (from stanza) (3.19.6)\n",
            "Requirement already satisfied: torch>=1.3.0 in /usr/local/lib/python3.8/dist-packages (from stanza) (1.13.0+cu116)\n",
            "Requirement already satisfied: requests in /usr/local/lib/python3.8/dist-packages (from stanza) (2.23.0)\n",
            "Requirement already satisfied: numpy in /usr/local/lib/python3.8/dist-packages (from stanza) (1.21.6)\n",
            "Requirement already satisfied: emoji in /usr/local/lib/python3.8/dist-packages (from stanza) (2.2.0)\n",
            "Requirement already satisfied: typing-extensions in /usr/local/lib/python3.8/dist-packages (from torch>=1.3.0->stanza) (4.4.0)\n",
            "Requirement already satisfied: urllib3!=1.25.0,!=1.25.1,<1.26,>=1.21.1 in /usr/local/lib/python3.8/dist-packages (from requests->stanza) (1.24.3)\n",
            "Requirement already satisfied: certifi>=2017.4.17 in /usr/local/lib/python3.8/dist-packages (from requests->stanza) (2022.12.7)\n",
            "Requirement already satisfied: idna<3,>=2.5 in /usr/local/lib/python3.8/dist-packages (from requests->stanza) (2.10)\n",
            "Requirement already satisfied: chardet<4,>=3.0.2 in /usr/local/lib/python3.8/dist-packages (from requests->stanza) (3.0.4)\n",
            "Looking in indexes: https://pypi.org/simple, https://us-python.pkg.dev/colab-wheels/public/simple/\n",
            "Requirement already satisfied: sklearn_crfsuite in /usr/local/lib/python3.8/dist-packages (0.3.6)\n",
            "Requirement already satisfied: tqdm>=2.0 in /usr/local/lib/python3.8/dist-packages (from sklearn_crfsuite) (4.64.1)\n",
            "Requirement already satisfied: python-crfsuite>=0.8.3 in /usr/local/lib/python3.8/dist-packages (from sklearn_crfsuite) (0.9.8)\n",
            "Requirement already satisfied: six in /usr/local/lib/python3.8/dist-packages (from sklearn_crfsuite) (1.15.0)\n",
            "Requirement already satisfied: tabulate in /usr/local/lib/python3.8/dist-packages (from sklearn_crfsuite) (0.8.10)\n",
            "Looking in indexes: https://pypi.org/simple, https://us-python.pkg.dev/colab-wheels/public/simple/\n",
            "Requirement already satisfied: scikit-learn<0.24 in /usr/local/lib/python3.8/dist-packages (0.23.2)\n",
            "Requirement already satisfied: scipy>=0.19.1 in /usr/local/lib/python3.8/dist-packages (from scikit-learn<0.24) (1.7.3)\n",
            "Requirement already satisfied: joblib>=0.11 in /usr/local/lib/python3.8/dist-packages (from scikit-learn<0.24) (1.2.0)\n",
            "Requirement already satisfied: threadpoolctl>=2.0.0 in /usr/local/lib/python3.8/dist-packages (from scikit-learn<0.24) (3.1.0)\n",
            "Requirement already satisfied: numpy>=1.13.3 in /usr/local/lib/python3.8/dist-packages (from scikit-learn<0.24) (1.21.6)\n"
          ]
        }
      ],
      "source": [
        "!pip install stanza\n",
        "!pip install sklearn_crfsuite\n",
        "!pip install -U 'scikit-learn<0.24'"
      ]
    },
    {
      "cell_type": "code",
      "execution_count": null,
      "metadata": {
        "colab": {
          "base_uri": "https://localhost:8080/",
          "height": 358,
          "referenced_widgets": [
            "52d05763589c42d3b3721a67433c0549",
            "51d0fbcc7bf5463c8c9bb5261f461088",
            "15f1639896f843e2bdae1cd1f89dc024",
            "01ab601d7c7e4011a94c4c2711cd0137",
            "1fbbf494ecb64bbf80c52cab5ac52830",
            "f3aa0e1499a04b4f8d5ec71df7f70267",
            "5a31d068f37b43668b2cfb3427dc0512",
            "b22f1e4be97245ce8928113df972b210",
            "8e30d6a4e99647eab775f1864b3902b8",
            "1fc2bde125664343b3a9a6232cafe6b2",
            "90bd25d6d87148dd8e1984a5866fe235",
            "e135505fb5944d4cb5fd997a58821f22",
            "512fd6d10d24461e9c354af0ef729bc6",
            "5e3f17b2a09c4145b5cefd6a9740dfdf",
            "b33b9d55907341bb833e7a4c332c900d",
            "73fd8949740247d882f80bbfde765a2d",
            "1894716cc13b43ee9125ff6797665db3",
            "8ddf9e1b348f44e7bf20aa6c558fe442",
            "72f3be2f793a4e6e9eff5b557e14960e",
            "ae9435bd51fd4e798143ea2bc39189cd",
            "1056bb98936e43d7bccd5b26fa91f1d7",
            "f879432c3c6a40e88e49a55287b34967"
          ]
        },
        "id": "FvChtY9up3DU",
        "outputId": "4a2ce7ef-8f77-46ab-b938-e23219a885b3"
      },
      "outputs": [
        {
          "output_type": "display_data",
          "data": {
            "text/plain": [
              "Downloading https://raw.githubusercontent.com/stanfordnlp/stanza-resources/main/resources_1.4.1.json:   0%|   …"
            ],
            "application/vnd.jupyter.widget-view+json": {
              "version_major": 2,
              "version_minor": 0,
              "model_id": "52d05763589c42d3b3721a67433c0549"
            }
          },
          "metadata": {}
        },
        {
          "output_type": "stream",
          "name": "stderr",
          "text": [
            "INFO:stanza:Downloading default packages for language: ru (Russian) ...\n",
            "INFO:stanza:File exists: /root/stanza_resources/ru/default.zip\n",
            "INFO:stanza:Finished downloading models and saved to /root/stanza_resources.\n",
            "INFO:stanza:Checking for updates to resources.json in case models have been updated.  Note: this behavior can be turned off with download_method=None or download_method=DownloadMethod.REUSE_RESOURCES\n"
          ]
        },
        {
          "output_type": "display_data",
          "data": {
            "text/plain": [
              "Downloading https://raw.githubusercontent.com/stanfordnlp/stanza-resources/main/resources_1.4.1.json:   0%|   …"
            ],
            "application/vnd.jupyter.widget-view+json": {
              "version_major": 2,
              "version_minor": 0,
              "model_id": "e135505fb5944d4cb5fd997a58821f22"
            }
          },
          "metadata": {}
        },
        {
          "output_type": "stream",
          "name": "stderr",
          "text": [
            "INFO:stanza:Loading these models for language: ru (Russian):\n",
            "=========================\n",
            "| Processor | Package   |\n",
            "-------------------------\n",
            "| tokenize  | syntagrus |\n",
            "| pos       | syntagrus |\n",
            "=========================\n",
            "\n",
            "INFO:stanza:Use device: gpu\n",
            "INFO:stanza:Loading: tokenize\n",
            "INFO:stanza:Loading: pos\n",
            "INFO:stanza:Done loading processors!\n"
          ]
        }
      ],
      "source": [
        "from collections import defaultdict, Counter\n",
        "from tqdm.notebook import tqdm\n",
        "import stanza\n",
        "from sklearn.model_selection import train_test_split\n",
        "import sklearn_crfsuite\n",
        "from sklearn_crfsuite import scorers\n",
        "from sklearn_crfsuite import metrics\n",
        "from sklearn.model_selection import cross_val_score\n",
        "\n",
        "stanza.download('ru')\n",
        "nlp = stanza.Pipeline('ru', processors='tokenize,pos')"
      ]
    },
    {
      "cell_type": "markdown",
      "metadata": {
        "id": "M9WriEUMpp49"
      },
      "source": [
        "# DATA PREPARATION"
      ]
    },
    {
      "cell_type": "code",
      "source": [
        "from google.colab import drive\n",
        "drive.mount('/content/drive')"
      ],
      "metadata": {
        "colab": {
          "base_uri": "https://localhost:8080/"
        },
        "id": "3Ta46_-o2f3c",
        "outputId": "33cae68c-8e8a-460a-858b-bf7d933fe62c"
      },
      "execution_count": null,
      "outputs": [
        {
          "output_type": "stream",
          "name": "stdout",
          "text": [
            "Drive already mounted at /content/drive; to attempt to forcibly remount, call drive.mount(\"/content/drive\", force_remount=True).\n"
          ]
        }
      ]
    },
    {
      "cell_type": "code",
      "execution_count": null,
      "metadata": {
        "id": "iu8nfLQwq9jD"
      },
      "outputs": [],
      "source": [
        "texts, ids = [], []\n",
        "with open('drive/My Drive/nlp/train_reviews.txt') as f:\n",
        "  for line in f:\n",
        "    text_id, text = line.rstrip('\\r\\n').split('\\t')\n",
        "    texts.append(text)\n",
        "    ids.append(text_id)"
      ]
    },
    {
      "cell_type": "code",
      "execution_count": null,
      "metadata": {
        "id": "NkRVxZSqrbih"
      },
      "outputs": [],
      "source": [
        "train_texts, dev_texts, train_ids, dev_ids = train_test_split(texts, ids)"
      ]
    },
    {
      "cell_type": "code",
      "execution_count": null,
      "metadata": {
        "id": "k8BaGxQ2peqr"
      },
      "outputs": [],
      "source": [
        "train_aspects, dev_aspects = [], []\n",
        "with open(\"drive/My Drive/nlp/train_aspects.txt\") as f:\n",
        "  for line in f:\n",
        "    line = line.rstrip('\\r\\n')\n",
        "    text_id = line.split('\\t')[0]\n",
        "    if text_id in train_ids:\n",
        "      train_aspects.append(line)\n",
        "    if text_id in dev_ids:\n",
        "      dev_aspects.append(line)"
      ]
    },
    {
      "cell_type": "code",
      "execution_count": null,
      "metadata": {
        "id": "loH2zoINq4rl"
      },
      "outputs": [],
      "source": [
        "train_sentiment, dev_sentiment = [], []\n",
        "with open('drive/My Drive/nlp/train_cats.txt') as f:\n",
        "  for line in f:\n",
        "    line = line.rstrip('\\r\\n')\n",
        "    text_id = line.split('\\t')[0]\n",
        "    if text_id in train_ids:\n",
        "      train_sentiment.append(line)\n",
        "    if text_id in dev_ids:\n",
        "      dev_sentiment.append(line)"
      ]
    },
    {
      "cell_type": "code",
      "execution_count": null,
      "metadata": {
        "id": "gAsXEKbRODOt"
      },
      "outputs": [],
      "source": [
        "with open(\"train_split_aspects.txt\", 'w') as f:\n",
        "  for l in train_aspects:\n",
        "    print(l, file=f)\n",
        "with open('dev_aspects.txt', \"w\") as f:\n",
        "  for l in dev_aspects:\n",
        "    print(l, file=f)\n",
        "with open('train_split_reviews.txt', \"w\") as f:\n",
        "  for i, l in zip(train_ids, train_texts):\n",
        "    print(i, l, sep=\"\\t\", file=f)\n",
        "with open('dev_reviews.txt', \"w\") as f:\n",
        "  for i, l in zip(dev_ids, dev_texts):\n",
        "    print(i, l, sep=\"\\t\", file=f)\n",
        "with open('train_split_cats.txt', \"w\") as f:\n",
        "  for l in train_sentiment:\n",
        "    print(l, file=f)\n",
        "with open('dev_cats.txt', \"w\") as f:\n",
        "  for l in dev_sentiment:\n",
        "    print(l, file=f)"
      ]
    },
    {
      "cell_type": "markdown",
      "metadata": {
        "id": "Y-gE3ANvJbp2"
      },
      "source": [
        "### reading files for further processing "
      ]
    },
    {
      "cell_type": "code",
      "execution_count": null,
      "metadata": {
        "id": "fDxCfPUQJFIb"
      },
      "outputs": [],
      "source": [
        "dev_aspects = []\n",
        "with open(\"dev_aspects.txt\") as f:\n",
        "  for line in f:\n",
        "    line = line.rstrip('\\r\\n')\n",
        "    text_id = line.split('\\t')[0]\n",
        "    dev_aspects.append(line)"
      ]
    },
    {
      "cell_type": "code",
      "execution_count": null,
      "metadata": {
        "id": "d5ynBe_jlrj8"
      },
      "outputs": [],
      "source": [
        "words_dict = {}\n",
        "for aspect in dev_aspects:\n",
        "  cat = aspect.split('\\t')[1]\n",
        "  word = aspect.split('\\t')[2]\n",
        "  words_dict[word] = cat"
      ]
    },
    {
      "cell_type": "code",
      "execution_count": null,
      "metadata": {
        "id": "gWVgyy4euWVj"
      },
      "outputs": [],
      "source": [
        "sents_dict = {}\n",
        "for aspect in dev_aspects:\n",
        "  cat = aspect.split('\\t')[-1]\n",
        "  word = aspect.split('\\t')[2]\n",
        "  sents_dict[word] = cat"
      ]
    },
    {
      "cell_type": "code",
      "execution_count": null,
      "metadata": {
        "id": "RtaORXAfJrXc"
      },
      "outputs": [],
      "source": [
        "dev_texts, dev_ids = [], []\n",
        "with open('dev_reviews.txt') as f:\n",
        "  for line in f:\n",
        "    text_id, text = line.rstrip('\\r\\n').split('\\t')\n",
        "    dev_texts.append(text)\n",
        "    dev_ids.append(text_id)"
      ]
    },
    {
      "cell_type": "code",
      "execution_count": null,
      "metadata": {
        "id": "shF9I240J8v-"
      },
      "outputs": [],
      "source": [
        "dev_sentiment = []\n",
        "with open('dev_cats.txt') as f:\n",
        "  for line in f:\n",
        "    line = line.rstrip('\\r\\n')\n",
        "    text_id = line.split('\\t')[0]\n",
        "    dev_sentiment.append(line)"
      ]
    },
    {
      "cell_type": "markdown",
      "metadata": {
        "id": "RP5fWL5FxisI"
      },
      "source": [
        "# BIO AND SENTIMENT TAGGING"
      ]
    },
    {
      "cell_type": "code",
      "execution_count": null,
      "metadata": {
        "id": "BpjcVdEBtDmI"
      },
      "outputs": [],
      "source": [
        "reviews_train, review_test = {}, {}\n",
        "\n",
        "for i in range(len(train_texts)):\n",
        "  reviews_train[train_ids[i]] = train_texts[i]\n",
        "\n",
        "for i in range(len(dev_texts)):\n",
        "  review_test[dev_ids[i]] = dev_texts[i]"
      ]
    },
    {
      "cell_type": "code",
      "execution_count": null,
      "metadata": {
        "id": "js_AcdeK0XAZ"
      },
      "outputs": [],
      "source": [
        "aspects_train, aspects_test = defaultdict(list), defaultdict(list)"
      ]
    },
    {
      "cell_type": "code",
      "execution_count": null,
      "metadata": {
        "id": "mnMgfVM_0xT_"
      },
      "outputs": [],
      "source": [
        "keys = ('category', 'mention', 'start', 'end', 'sentiment')\n",
        "\n",
        "for t in train_aspects:\n",
        "  text_id = t.split('\\t')[0]\n",
        "  line = t.split('\\t')[1:]\n",
        "  aspects_train[text_id].append(dict(zip(keys, line)))\n",
        "\n",
        "for t in dev_aspects:\n",
        "  text_id = t.split('\\t')[0]\n",
        "  line = t.split('\\t')[1:]\n",
        "  aspects_test[text_id].append(dict(zip(keys, line)))"
      ]
    },
    {
      "cell_type": "code",
      "execution_count": null,
      "metadata": {
        "colab": {
          "base_uri": "https://localhost:8080/",
          "height": 49,
          "referenced_widgets": [
            "ba9dceccfd1f41dda69346a84d626003",
            "34c9a8157b674aa699351a3205b46464",
            "53737a85b6c8427aa0d352d22a0c7004",
            "71ae8e5d1f7d4cc0ace351b3a8c6f475",
            "ec553e9eb95040da8e5b97271c39cbe3",
            "b1491948bdf24d5e97e2bd22c435aa4a",
            "91f8aa13f84d45fe916f840d044a516d",
            "947a61bf64b643c08decff8fb6aef12e",
            "ef4ea3b8b5034da985cad43fdb744fa1",
            "33f4153fe3d24824a6232b879bb5f623",
            "555cc642152b4335b3d510c4f51c523a"
          ]
        },
        "id": "-VjnzQZ_2jFv",
        "outputId": "3aaec1ef-3f7b-4635-d1e9-901a0034b3d7"
      },
      "outputs": [
        {
          "output_type": "display_data",
          "data": {
            "text/plain": [
              "  0%|          | 0/213 [00:00<?, ?it/s]"
            ],
            "application/vnd.jupyter.widget-view+json": {
              "version_major": 2,
              "version_minor": 0,
              "model_id": "ba9dceccfd1f41dda69346a84d626003"
            }
          },
          "metadata": {}
        }
      ],
      "source": [
        "bio_train_texts = {}\n",
        "\n",
        "for text_id, text in tqdm(list(reviews_train.items())):\n",
        "  text_bio = []\n",
        "  processed = nlp(text)\n",
        "  for token in processed.iter_tokens():\n",
        "    add = False\n",
        "    for mention in aspects_train[text_id]:\n",
        "      if token.start_char == int(mention['start']):\n",
        "        bio = 'B-' + mention['category'] + '-' + mention['sentiment']\n",
        "        add = True\n",
        "        break\n",
        "      elif token.end_char == int(mention['end']):\n",
        "        bio = 'E-' + mention['category'] + '-' + mention['sentiment']\n",
        "        add = True\n",
        "        break\n",
        "      elif int(mention['start']) < token.start_char < int(mention['end']):\n",
        "        bio = 'I-' + mention['category'] + '-' + mention['sentiment']\n",
        "        add = True\n",
        "        break\n",
        "\n",
        "    if not add:\n",
        "      bio = 'O'\n",
        "\n",
        "    text_bio.append(bio)\n",
        "\n",
        "  bio_train_texts[text_id] = text_bio"
      ]
    },
    {
      "cell_type": "code",
      "execution_count": null,
      "metadata": {
        "colab": {
          "base_uri": "https://localhost:8080/",
          "height": 49,
          "referenced_widgets": [
            "65f4547ea73c462f82c3e6487c13532a",
            "e18d49d465dc42e9860b414755b35ff0",
            "0dd2ee988e5c477dbf78b95367dacd1c",
            "e05d02fe7bdd43ce84d556d88d0c9ff8",
            "c4557e81e3024efa9e8d1528d0bd7e4f",
            "43b97d958cd542319e12e85804aa215f",
            "b99028a06917494fb303419e2199f76a",
            "bc925888f9064896a3c4981be69b1f72",
            "8fde6a02f1224c8f8adc43180a02b791",
            "0f48ccfeee024cf0ae33217060d9eb02",
            "f43031ffb7814ae0ba7bd10375050b75"
          ]
        },
        "id": "GhLCrZIWNOfy",
        "outputId": "d8350229-f748-43b0-ff51-5fee7c4c98ba"
      },
      "outputs": [
        {
          "output_type": "display_data",
          "data": {
            "text/plain": [
              "  0%|          | 0/71 [00:00<?, ?it/s]"
            ],
            "application/vnd.jupyter.widget-view+json": {
              "version_major": 2,
              "version_minor": 0,
              "model_id": "65f4547ea73c462f82c3e6487c13532a"
            }
          },
          "metadata": {}
        }
      ],
      "source": [
        "bio_test_texts = {}\n",
        "\n",
        "for text_id, text in tqdm(list(review_test.items())):\n",
        "  text_bio = []\n",
        "  processed = nlp(text)\n",
        "  for token in processed.iter_tokens():\n",
        "    add = False\n",
        "    for mention in aspects_test[text_id]:\n",
        "      if token.start_char == int(mention['start']):\n",
        "        bio = 'B-' + mention['category'] + '-' + mention['sentiment']\n",
        "        add = True\n",
        "        break\n",
        "      elif token.end_char == int(mention['end']):\n",
        "        bio = 'E-' + mention['category'] + '-' + mention['sentiment']\n",
        "        add = True\n",
        "        break\n",
        "      elif int(mention['start']) < token.start_char < int(mention['end']):\n",
        "        bio = 'I-' + mention['category'] + '-' + mention['sentiment']\n",
        "        add = True\n",
        "        break\n",
        "\n",
        "    if not add:\n",
        "      bio = 'O'\n",
        "\n",
        "    text_bio.append(bio)\n",
        "\n",
        "  bio_test_texts[text_id] = text_bio"
      ]
    },
    {
      "cell_type": "code",
      "execution_count": null,
      "metadata": {
        "id": "LkgMEwuoNiGA"
      },
      "outputs": [],
      "source": [
        "def word2features(sent, i):\n",
        "    word = sent[i].text\n",
        "    postag = sent[i].upos\n",
        "    \n",
        "    features = {\n",
        "        'word.lower()': word.lower(),\n",
        "        'word[-3:]': word[-3:],\n",
        "        'word[-2:]': word[-2:],\n",
        "        'word.isupper()': word.isupper(),\n",
        "        'word.istitle()': word.istitle(),\n",
        "        'word.isdigit()': word.isdigit(),\n",
        "        'postag': postag,\n",
        "    }\n",
        "    if i > 0:\n",
        "        word1 = sent[i-1].text\n",
        "        postag1 = sent[i-1].pos\n",
        "        features.update({\n",
        "            '-1:word.lower()': word1.lower(),\n",
        "            '-1:word.istitle()': word1.istitle(),\n",
        "            '-1:word.isupper()': word1.isupper(),\n",
        "            '-1:postag': postag1,\n",
        "        })\n",
        "    else:\n",
        "        features['BOS'] = True\n",
        "        \n",
        "    if i < len(sent)-1:\n",
        "        word1 = sent[i+1].text\n",
        "        postag1 = sent[i+1].pos\n",
        "        features.update({\n",
        "            '+1:word.lower()': word1.lower(),\n",
        "            '+1:word.istitle()': word1.istitle(),\n",
        "            '+1:word.isupper()': word1.isupper(),\n",
        "            '+1:postag': postag1,\n",
        "            '+1:postag[:2]': postag1[:2],\n",
        "        })\n",
        "    else:\n",
        "        features['EOS'] = True\n",
        "                \n",
        "    return features\n",
        "\n",
        "\n",
        "def text2features(text):\n",
        "  prep_text = nlp(text)\n",
        "  toks = []\n",
        "  for sent in prep_text.sentences:\n",
        "    for token in sent.words:\n",
        "      toks.append(token)\n",
        "  return [word2features(toks, i) for i in range(len(toks))]\n",
        "\n",
        "def text2labels(text_ids, labels):\n",
        "    return [labels[i] for i in text_ids]\n",
        "\n",
        "def text2tokens(text):\n",
        "    prep_text = nlp(text)\n",
        "    toks = []\n",
        "    for sent in prep_text.sentences:\n",
        "      for token in sent.words:\n",
        "        toks.append(token)\n",
        "    return toks"
      ]
    },
    {
      "cell_type": "code",
      "execution_count": null,
      "metadata": {
        "id": "JU8LdGbnVS5Y"
      },
      "outputs": [],
      "source": [
        "X_train = [text2features(s) for s in train_texts]\n",
        "y_train = text2labels(train_ids, bio_train_texts)\n",
        "\n",
        "X_test = [text2features(s) for s in dev_texts]\n",
        "y_test = text2labels(dev_ids, bio_test_texts)"
      ]
    },
    {
      "cell_type": "markdown",
      "metadata": {
        "id": "nGhSfH0C2sY2"
      },
      "source": [
        "# CRF"
      ]
    },
    {
      "cell_type": "code",
      "execution_count": null,
      "metadata": {
        "colab": {
          "base_uri": "https://localhost:8080/"
        },
        "id": "CuBIEuspRWrO",
        "outputId": "694e68ee-1292-4f46-e9c1-5aadbc5478f0"
      },
      "outputs": [
        {
          "output_type": "stream",
          "name": "stderr",
          "text": [
            "/usr/local/lib/python3.8/dist-packages/sklearn/base.py:209: FutureWarning: From version 0.24, get_params will raise an AttributeError if a parameter cannot be retrieved as an instance attribute. Previously it would return None.\n",
            "  warnings.warn('From version 0.24, get_params will raise an '\n"
          ]
        },
        {
          "output_type": "execute_result",
          "data": {
            "text/plain": [
              "CRF(algorithm='lbfgs', all_possible_transitions=True, c1=0.1, c2=0.1,\n",
              "    keep_tempfiles=None, max_iterations=100)"
            ]
          },
          "metadata": {},
          "execution_count": 21
        }
      ],
      "source": [
        "crf = sklearn_crfsuite.CRF(\n",
        "    algorithm='lbfgs', \n",
        "    c1=0.1, \n",
        "    c2=0.1, \n",
        "    max_iterations=100, \n",
        "    all_possible_transitions=True\n",
        ")\n",
        "crf.fit(X_train, y_train)"
      ]
    },
    {
      "cell_type": "code",
      "execution_count": null,
      "metadata": {
        "colab": {
          "base_uri": "https://localhost:8080/"
        },
        "id": "-k6NWtcQUBys",
        "outputId": "99d8f2ae-4ee6-4298-a3f4-27e26215f550"
      },
      "outputs": [
        {
          "output_type": "stream",
          "name": "stderr",
          "text": [
            "/usr/local/lib/python3.8/dist-packages/sklearn/metrics/_classification.py:1464: UndefinedMetricWarning: F-score is ill-defined and being set to 0.0 in labels with no true nor predicted samples. Use `zero_division` parameter to control this behavior.\n",
            "  _warn_prf(\n"
          ]
        },
        {
          "output_type": "execute_result",
          "data": {
            "text/plain": [
              "0.4154056385630595"
            ]
          },
          "metadata": {},
          "execution_count": 22
        }
      ],
      "source": [
        "labels = list(crf.classes_)\n",
        "labels.remove('O')\n",
        "y_pred = crf.predict(X_test)\n",
        "metrics.flat_f1_score(y_test, y_pred, \n",
        "                      average='weighted', labels=labels)"
      ]
    },
    {
      "cell_type": "code",
      "execution_count": null,
      "metadata": {
        "colab": {
          "base_uri": "https://localhost:8080/"
        },
        "id": "jsmATgkldmA8",
        "outputId": "e8f4c557-5df3-46dd-e5fa-a9676f6a877f"
      },
      "outputs": [
        {
          "output_type": "stream",
          "name": "stdout",
          "text": [
            "                     precision    recall  f1-score   support\n",
            "\n",
            "        B-Food-both      0.000     0.000     0.000         4\n",
            "        E-Food-both      0.000     0.000     0.000         1\n",
            "        I-Food-both      0.000     0.000     0.000         0\n",
            "    B-Food-negative      0.250     0.062     0.100        64\n",
            "    E-Food-negative      0.000     0.000     0.000        14\n",
            "    I-Food-negative      0.000     0.000     0.000         2\n",
            "     B-Food-neutral      0.424     0.199     0.271       141\n",
            "     E-Food-neutral      0.167     0.065     0.093        31\n",
            "     I-Food-neutral      0.000     0.000     0.000        35\n",
            "    B-Food-positive      0.564     0.475     0.516       297\n",
            "    E-Food-positive      0.379     0.446     0.410        74\n",
            "    I-Food-positive      0.347     0.461     0.395        76\n",
            "    B-Interior-both      0.000     0.000     0.000         5\n",
            "    E-Interior-both      0.000     0.000     0.000         2\n",
            "B-Interior-negative      0.000     0.000     0.000        20\n",
            "E-Interior-negative      0.000     0.000     0.000         7\n",
            "I-Interior-negative      0.000     0.000     0.000         5\n",
            " B-Interior-neutral      0.500     0.071     0.125        14\n",
            " E-Interior-neutral      0.500     0.125     0.200         8\n",
            " I-Interior-neutral      0.000     0.000     0.000         1\n",
            "B-Interior-positive      0.705     0.603     0.650       151\n",
            "E-Interior-positive      0.348     0.381     0.364        21\n",
            "I-Interior-positive      0.100     0.125     0.111         8\n",
            "       B-Price-both      0.000     0.000     0.000         0\n",
            "   B-Price-negative      0.500     0.143     0.222         7\n",
            "   E-Price-negative      0.000     0.000     0.000         1\n",
            "   I-Price-negative      0.000     0.000     0.000         1\n",
            "    B-Price-neutral      0.000     0.000     0.000         3\n",
            "    E-Price-neutral      0.000     0.000     0.000         1\n",
            "    I-Price-neutral      0.000     0.000     0.000         0\n",
            "   B-Price-positive      0.588     0.455     0.513        22\n",
            "   E-Price-positive      0.000     0.000     0.000         4\n",
            "   I-Price-positive      0.000     0.000     0.000         5\n",
            "     B-Service-both      0.000     0.000     0.000         5\n",
            " B-Service-negative      0.421     0.127     0.195        63\n",
            " E-Service-negative      0.000     0.000     0.000         5\n",
            " I-Service-negative      0.000     0.000     0.000         2\n",
            "  B-Service-neutral      0.600     0.214     0.316        28\n",
            "  E-Service-neutral      0.750     0.545     0.632        11\n",
            "  I-Service-neutral      0.000     0.000     0.000         1\n",
            " B-Service-positive      0.673     0.542     0.601       212\n",
            " E-Service-positive      0.583     0.400     0.475        35\n",
            " I-Service-positive      0.333     0.333     0.333        12\n",
            "       B-Whole-both      0.000     0.000     0.000         4\n",
            "       E-Whole-both      0.000     0.000     0.000         0\n",
            "       I-Whole-both      0.000     0.000     0.000         0\n",
            "   B-Whole-negative      0.167     0.062     0.091        16\n",
            "   E-Whole-negative      0.000     0.000     0.000         1\n",
            "   I-Whole-negative      0.000     0.000     0.000         1\n",
            "    B-Whole-neutral      0.625     0.345     0.444        58\n",
            "    E-Whole-neutral      0.333     0.143     0.200         7\n",
            "    I-Whole-neutral      0.333     0.167     0.222         6\n",
            "   B-Whole-positive      0.698     0.612     0.652       121\n",
            "   E-Whole-positive      0.545     0.500     0.522        12\n",
            "   I-Whole-positive      0.400     0.500     0.444         4\n",
            "\n",
            "          micro avg      0.533     0.377     0.441      1629\n",
            "          macro avg      0.215     0.147     0.165      1629\n",
            "       weighted avg      0.491     0.377     0.415      1629\n",
            "\n"
          ]
        },
        {
          "output_type": "stream",
          "name": "stderr",
          "text": [
            "/usr/local/lib/python3.8/dist-packages/sklearn/utils/validation.py:67: FutureWarning: Pass labels=['B-Food-both', 'E-Food-both', 'I-Food-both', 'B-Food-negative', 'E-Food-negative', 'I-Food-negative', 'B-Food-neutral', 'E-Food-neutral', 'I-Food-neutral', 'B-Food-positive', 'E-Food-positive', 'I-Food-positive', 'B-Interior-both', 'E-Interior-both', 'B-Interior-negative', 'E-Interior-negative', 'I-Interior-negative', 'B-Interior-neutral', 'E-Interior-neutral', 'I-Interior-neutral', 'B-Interior-positive', 'E-Interior-positive', 'I-Interior-positive', 'B-Price-both', 'B-Price-negative', 'E-Price-negative', 'I-Price-negative', 'B-Price-neutral', 'E-Price-neutral', 'I-Price-neutral', 'B-Price-positive', 'E-Price-positive', 'I-Price-positive', 'B-Service-both', 'B-Service-negative', 'E-Service-negative', 'I-Service-negative', 'B-Service-neutral', 'E-Service-neutral', 'I-Service-neutral', 'B-Service-positive', 'E-Service-positive', 'I-Service-positive', 'B-Whole-both', 'E-Whole-both', 'I-Whole-both', 'B-Whole-negative', 'E-Whole-negative', 'I-Whole-negative', 'B-Whole-neutral', 'E-Whole-neutral', 'I-Whole-neutral', 'B-Whole-positive', 'E-Whole-positive', 'I-Whole-positive'] as keyword args. From version 0.25 passing these as positional arguments will result in an error\n",
            "  warnings.warn(\"Pass {} as keyword args. From version 0.25 \"\n",
            "/usr/local/lib/python3.8/dist-packages/sklearn/metrics/_classification.py:1221: UndefinedMetricWarning: Precision and F-score are ill-defined and being set to 0.0 in labels with no predicted samples. Use `zero_division` parameter to control this behavior.\n",
            "  _warn_prf(average, modifier, msg_start, len(result))\n",
            "/usr/local/lib/python3.8/dist-packages/sklearn/metrics/_classification.py:1221: UndefinedMetricWarning: Recall and F-score are ill-defined and being set to 0.0 in labels with no true samples. Use `zero_division` parameter to control this behavior.\n",
            "  _warn_prf(average, modifier, msg_start, len(result))\n"
          ]
        }
      ],
      "source": [
        "sorted_labels = sorted(\n",
        "    labels, \n",
        "    key=lambda name: (name[1:], name[0])\n",
        ")\n",
        "print(metrics.flat_classification_report(\n",
        "    y_test, y_pred, labels=sorted_labels, digits=3\n",
        "))"
      ]
    },
    {
      "cell_type": "markdown",
      "metadata": {
        "id": "ITpUxDZ53MtK"
      },
      "source": [
        "### For those words to which CRF has not assigned a category, but which occur in the training data and have a category there, we assign the same category and tone as in the training data. We write the results to a file\n",
        "\n",
        "\n"
      ]
    },
    {
      "cell_type": "code",
      "execution_count": null,
      "metadata": {
        "colab": {
          "base_uri": "https://localhost:8080/",
          "height": 49,
          "referenced_widgets": [
            "d31ef90c53c2469193f6237e85d38821",
            "778b05c7da5248ab8210c35a760ad3f4",
            "0447a7359db54649b4a19c0872abaa3a",
            "942ee6656874465b99baaaebc17945d7",
            "f60ca71280424b74a74838b7cec8bd17",
            "04fdf8225f6d4dbc93e7e6ba7a81be18",
            "46a06620521e44d699e619b8df4fa3aa",
            "6cccbc6b53434ce988bedae597f7a1a4",
            "184ffc467c9c4635b42356beb7c1721a",
            "8d35508562fd482999bd355b6861e4b9",
            "70d95b9116da49d69fc23003aed40c52"
          ]
        },
        "id": "9tpT4q73wnuD",
        "outputId": "f484f7fa-c782-425d-da99-c895d2673984"
      },
      "outputs": [
        {
          "output_type": "display_data",
          "data": {
            "text/plain": [
              "  0%|          | 0/71 [00:00<?, ?it/s]"
            ],
            "application/vnd.jupyter.widget-view+json": {
              "version_major": 2,
              "version_minor": 0,
              "model_id": "d31ef90c53c2469193f6237e85d38821"
            }
          },
          "metadata": {}
        }
      ],
      "source": [
        "with open('dev_pred_aspects_sent_crf.txt', \"w\") as f:\n",
        "  for i in tqdm(range(len(dev_texts))):\n",
        "    preds = y_pred[i]\n",
        "    dev_text = nlp(dev_texts[i])\n",
        "    dev = []\n",
        "    dev_ends = []\n",
        "    dev_starts = []\n",
        "    text = nlp(dev_text)\n",
        "    sents = text.sentences\n",
        "    for sent in sents:\n",
        "      toks = sent.tokens\n",
        "      for tok in toks:\n",
        "        dev.append(tok.text)\n",
        "        dev_ends.append(tok.end_char)\n",
        "        dev_starts.append(tok.start_char)\n",
        "    \n",
        "    y_2 = 0\n",
        "    for y in range(len(preds)):\n",
        "      if y == y_2:\n",
        "        y_2 = y + 1\n",
        "        if preds[y] != 'O':\n",
        "          if 'positive' in preds[y]:\n",
        "            sent = 'positive'\n",
        "            cat = preds[y][2:-9]\n",
        "\n",
        "          elif 'negative' in preds[y]:\n",
        "            sent = 'negative'\n",
        "            cat = preds[y][2:-9]\n",
        "          \n",
        "          elif 'neutral' in preds[y]:\n",
        "            sent = 'neutral'\n",
        "            cat = preds[y][2:-8]\n",
        "          \n",
        "          elif 'both' in preds[y]:\n",
        "            sent = 'both'\n",
        "            cat = preds[y][2:-5]\n",
        "          \n",
        "          \n",
        "          id_text = dev_ids[i]\n",
        "          tokens_span = dev[y]\n",
        "          ends_span = dev_ends[y]\n",
        "          starts_span = dev_starts[y]\n",
        "          for e in range(y+1, len(preds)):\n",
        "            if 'positive' in preds[y]:\n",
        "              cat_e = preds[e][2:-9]\n",
        "\n",
        "            elif 'negative' in preds[y]:\n",
        "              cat_e = preds[e][2:-9]\n",
        "            \n",
        "            elif 'neutral' in preds[y]:\n",
        "              cat_e = preds[e][2:-8]\n",
        "            \n",
        "            elif 'both' in preds[y]:\n",
        "              cat_e = preds[e][2:-5]\n",
        "\n",
        "            if cat_e != cat:\n",
        "              break\n",
        "            else:\n",
        "              token = ' ' + dev[e]\n",
        "              ends_span = dev_ends[e]\n",
        "              tokens_span += token\n",
        "              y_2 = e + 1\n",
        "\n",
        "          print(id_text, cat, tokens_span, starts_span, ends_span, sent, sep=\"\\t\", file=f)\n",
        "\n",
        "        elif preds[y] == 'O':\n",
        "          if dev[y] in sents_dict.keys():\n",
        "            id_text = dev_ids[i]\n",
        "            cat = words_dict[dev[y]]\n",
        "            sent = sents_dict[dev[y]]\n",
        "            tokens_span = dev[y]\n",
        "            ends_span = dev_ends[y]\n",
        "            starts_span = dev_starts[y]\n",
        "            print(id_text, cat, tokens_span, starts_span, ends_span, sent, sep=\"\\t\", file=f)"
      ]
    },
    {
      "cell_type": "code",
      "execution_count": null,
      "metadata": {
        "id": "raaAZ6OGdsDD"
      },
      "outputs": [],
      "source": [
        "gold_aspect_cats = {}\n",
        "with open('dev_aspects.txt') as fg:\n",
        "    for line in fg:\n",
        "        line = line.rstrip('\\r\\n').split('\\t')\n",
        "        if line[0] not in gold_aspect_cats:\n",
        "            gold_aspect_cats[line[0]] = {\"starts\":[], \"ends\":[], \"cats\":[], \"sents\":[]}\n",
        "        gold_aspect_cats[line[0]][\"starts\"].append(int(line[3]))\n",
        "        gold_aspect_cats[line[0]][\"ends\"].append(int(line[4]))\n",
        "        gold_aspect_cats[line[0]][\"cats\"].append(line[1])\n",
        "        gold_aspect_cats[line[0]][\"sents\"].append(line[5])"
      ]
    },
    {
      "cell_type": "markdown",
      "metadata": {
        "id": "JLUxxJIU4bnx"
      },
      "source": [
        "# EVALUATION 1"
      ]
    },
    {
      "cell_type": "code",
      "execution_count": null,
      "metadata": {
        "id": "6rZucHkM8dVG"
      },
      "outputs": [],
      "source": [
        "full_match, partial_match, full_cat_match, partial_cat_match = 0, 0, 0, 0\n",
        "total = 0\n",
        "fully_matched_pairs = []\n",
        "partially_matched_pairs = []\n",
        "with open('dev_pred_aspects_sent_crf.txt') as fp:\n",
        "    for line in fp:    \n",
        "        total += 1\n",
        "        line = line.rstrip('\\r\\n').split('\\t')\n",
        "        start, end = int(line[3]), int(line[4])\n",
        "        category = line[1]\n",
        "        doc_gold_aspect_cats = gold_aspect_cats[line[0]]\n",
        "        if start in doc_gold_aspect_cats[\"starts\"]:\n",
        "            i = doc_gold_aspect_cats[\"starts\"].index(start)\n",
        "            if doc_gold_aspect_cats[\"ends\"][i] == end:\n",
        "                full_match += 1\n",
        "                if doc_gold_aspect_cats[\"cats\"][i] == category:\n",
        "                    full_cat_match += 1\n",
        "                else:\n",
        "                    partial_cat_match += 1\n",
        "                fully_matched_pairs.append(\n",
        "                    (\n",
        "                        [\n",
        "                            doc_gold_aspect_cats[\"starts\"][i], \n",
        "                            doc_gold_aspect_cats[\"ends\"][i], \n",
        "                            doc_gold_aspect_cats[\"cats\"][i],\n",
        "                            doc_gold_aspect_cats[\"sents\"][i]\n",
        "                        ],\n",
        "                        line\n",
        "                    )\n",
        "                )\n",
        "                continue\n",
        "        for s_pos in doc_gold_aspect_cats[\"starts\"]:\n",
        "            if start <= s_pos:\n",
        "                i = doc_gold_aspect_cats[\"starts\"].index(s_pos)\n",
        "                if doc_gold_aspect_cats[\"ends\"][i] == end:\n",
        "                    partial_match += 1\n",
        "                    partially_matched_pairs.append(\n",
        "                        (\n",
        "                            [\n",
        "                                doc_gold_aspect_cats[\"starts\"][i], \n",
        "                                doc_gold_aspect_cats[\"ends\"][i], \n",
        "                                doc_gold_aspect_cats[\"cats\"][i],\n",
        "                                doc_gold_aspect_cats[\"sents\"][i]\n",
        "                            ],\n",
        "                            line\n",
        "                        )\n",
        "                    )\n",
        "                    if doc_gold_aspect_cats[\"cats\"][i] == category:\n",
        "                        partial_cat_match += 1\n",
        "                    continue\n",
        "                matched = False\n",
        "                for e_pos in doc_gold_aspect_cats[\"ends\"][i:]:\n",
        "                    if s_pos <= end <= e_pos:\n",
        "                        partial_match += 1\n",
        "                        partially_matched_pairs.append(\n",
        "                            (\n",
        "                                [\n",
        "                                    doc_gold_aspect_cats[\"starts\"][i], \n",
        "                                    doc_gold_aspect_cats[\"ends\"][i], \n",
        "                                    doc_gold_aspect_cats[\"cats\"][i],\n",
        "                                    doc_gold_aspect_cats[\"sents\"][i]\n",
        "                                ],\n",
        "                                line\n",
        "                            )\n",
        "                        )\n",
        "                        if doc_gold_aspect_cats[\"cats\"][i] == category:\n",
        "                            partial_cat_match += 1\n",
        "                        matched = True\n",
        "                        break\n",
        "                if matched:\n",
        "                    break\n",
        "            if start > s_pos:\n",
        "                i = doc_gold_aspect_cats[\"starts\"].index(s_pos)\n",
        "                if start < doc_gold_aspect_cats[\"ends\"][i] <= end:\n",
        "                    partial_match += 1\n",
        "                    partially_matched_pairs.append(\n",
        "                        (\n",
        "                            [\n",
        "                                doc_gold_aspect_cats[\"starts\"][i], \n",
        "                                doc_gold_aspect_cats[\"ends\"][i], \n",
        "                                doc_gold_aspect_cats[\"cats\"][i],\n",
        "                                doc_gold_aspect_cats[\"sents\"][i]\n",
        "                            ],\n",
        "                            line\n",
        "                        )\n",
        "                    )\n",
        "                    if doc_gold_aspect_cats[\"cats\"][i] == category:\n",
        "                        partial_cat_match += 1\n",
        "                    break\n"
      ]
    },
    {
      "cell_type": "code",
      "execution_count": null,
      "metadata": {
        "id": "dMaq8oDa8dJS"
      },
      "outputs": [],
      "source": [
        "gold_size = sum([len(gold_aspect_cats[x][\"cats\"]) for x in gold_aspect_cats])"
      ]
    },
    {
      "cell_type": "code",
      "execution_count": null,
      "metadata": {
        "colab": {
          "base_uri": "https://localhost:8080/"
        },
        "id": "BhVA9lgR8c-O",
        "outputId": "e08969d3-14a6-4f01-e55c-29d017f2e0f6"
      },
      "outputs": [
        {
          "output_type": "stream",
          "name": "stdout",
          "text": [
            "\n",
            "Full match precision: 0.7187060478199718\n",
            "Full match recall: 0.8241935483870968\n",
            "Partial match ratio in pred: 0.8037974683544303\n",
            "Full category accuracy: 0.7025316455696202\n",
            "Partial category accuracy: 0.7862165963431786\n",
            "\n"
          ]
        }
      ],
      "source": [
        "print(f\"\"\"\n",
        "Full match precision: {full_match / total}\n",
        "Full match recall: {full_match / gold_size}\n",
        "Partial match ratio in pred: {(full_match + partial_match)  / total}\n",
        "Full category accuracy: {full_cat_match / total}\n",
        "Partial category accuracy: {(full_cat_match + partial_cat_match) / total}\n",
        "\"\"\")"
      ]
    },
    {
      "cell_type": "markdown",
      "metadata": {
        "id": "hek0dy4X4lEV"
      },
      "source": [
        "# EVALUATION 2"
      ]
    },
    {
      "cell_type": "code",
      "execution_count": null,
      "metadata": {
        "id": "4B7HKjDowL2H"
      },
      "outputs": [],
      "source": [
        "def sentiment_accuracy(matches):\n",
        "    matched_sentiment = 0.\n",
        "    for pair in matches:\n",
        "        *_, gold_s = pair[0]\n",
        "        *_, pred_s = pair[1]\n",
        "        if gold_s == pred_s:\n",
        "            matched_sentiment += 1\n",
        "    print(f\"Mention sentiment accuracy: {matched_sentiment / len(matches)}\")"
      ]
    },
    {
      "cell_type": "code",
      "execution_count": null,
      "metadata": {
        "colab": {
          "base_uri": "https://localhost:8080/"
        },
        "id": "KMWncdNwxFAh",
        "outputId": "476cff4f-4a24-4e1b-bcb5-a6127f9502e7"
      },
      "outputs": [
        {
          "output_type": "stream",
          "name": "stdout",
          "text": [
            "Mention sentiment accuracy: 0.7710371819960861\n"
          ]
        }
      ],
      "source": [
        "sentiment_accuracy(fully_matched_pairs)"
      ]
    },
    {
      "cell_type": "code",
      "execution_count": null,
      "metadata": {
        "colab": {
          "base_uri": "https://localhost:8080/"
        },
        "id": "Z34RXKdyxJDs",
        "outputId": "2e61d5e6-2951-41c3-b46a-52fa443ae523"
      },
      "outputs": [
        {
          "output_type": "stream",
          "name": "stdout",
          "text": [
            "Mention sentiment accuracy: 0.5289256198347108\n"
          ]
        }
      ],
      "source": [
        "sentiment_accuracy(partially_matched_pairs)"
      ]
    },
    {
      "cell_type": "markdown",
      "metadata": {
        "id": "nsW5SS7d4xSI"
      },
      "source": [
        "# EVALUATION 3"
      ]
    },
    {
      "cell_type": "code",
      "execution_count": null,
      "metadata": {
        "id": "LpRHW8WIyATs"
      },
      "outputs": [],
      "source": [
        "def from_aspects_to_cats(path_from, path_to):\n",
        "    aspects_d = {}\n",
        "    with open (path_from, encoding='utf-8') as f:\n",
        "        for line in f:\n",
        "            line = line.split('\\t')\n",
        "            sent_id = line[0]\n",
        "            cat = line[1]\n",
        "            sent = line[-1].replace('\\n', '')\n",
        "            if sent_id not in aspects_d.keys():\n",
        "                aspects_d[sent_id] = {}\n",
        "            if cat not in aspects_d[sent_id]:\n",
        "                aspects_d[sent_id][cat] = []\n",
        "            aspects_d[sent_id][cat].append(sent)\n",
        "    aspects_cat = dict.fromkeys(aspects_d.keys())\n",
        "    cats = ['Food', 'Interior', 'Price', 'Whole', 'Service']\n",
        "    for k in aspects_cat.keys():\n",
        "        aspects_cat[k] = {}\n",
        "        for c in cats:\n",
        "            if c not in aspects_d[k].keys():\n",
        "                aspects_cat[k][c] = 'absence'\n",
        "            else:\n",
        "                counter = Counter(aspects_d[k][c]).most_common()\n",
        "                if len(counter)>1 and counter[0][0]==counter[1][0]:\n",
        "                    aspects_cat[k][c] = 'both'\n",
        "                else:\n",
        "                    aspects_cat[k][c] = counter[0][0]\n",
        "    with open(path_to, 'w', encoding='utf-8') as f:\n",
        "        for k, v in aspects_cat.items():\n",
        "            for c, s in v.items():\n",
        "                print(k, c, s, sep='\\t', file=f)"
      ]
    },
    {
      "cell_type": "code",
      "execution_count": null,
      "metadata": {
        "id": "BdQqJfqNyfjN"
      },
      "outputs": [],
      "source": [
        "from_aspects_to_cats('dev_pred_aspects_sent_crf.txt', 'dev_pred_cats_sent.txt')"
      ]
    },
    {
      "cell_type": "code",
      "execution_count": null,
      "metadata": {
        "colab": {
          "base_uri": "https://localhost:8080/"
        },
        "id": "--baMkwDyrsa",
        "outputId": "7f888882-62f6-4745-d36d-53b3f52ad8c8"
      },
      "outputs": [
        {
          "output_type": "stream",
          "name": "stdout",
          "text": [
            "Overall sentiment accuracy: 0.6507042253521127\n"
          ]
        }
      ],
      "source": [
        "with open('dev_cats.txt') as gc, open('dev_pred_cats_sent.txt') as pc:\n",
        "    gold_labels = set(gc.readlines())\n",
        "    pred_labels = set(pc.readlines())\n",
        "    print(\n",
        "        \"Overall sentiment accuracy:\",\n",
        "        len(gold_labels & pred_labels) / len(gold_labels)\n",
        "    )"
      ]
    },
    {
      "cell_type": "code",
      "execution_count": null,
      "metadata": {
        "id": "D91-hmvgy7GA"
      },
      "outputs": [],
      "source": []
    }
  ],
  "metadata": {
    "accelerator": "GPU",
    "colab": {
      "provenance": []
    },
    "kernelspec": {
      "display_name": "Python 3",
      "name": "python3"
    },
    "language_info": {
      "name": "python"
    },
    "widgets": {
      "application/vnd.jupyter.widget-state+json": {
        "52d05763589c42d3b3721a67433c0549": {
          "model_module": "@jupyter-widgets/controls",
          "model_name": "HBoxModel",
          "model_module_version": "1.5.0",
          "state": {
            "_dom_classes": [],
            "_model_module": "@jupyter-widgets/controls",
            "_model_module_version": "1.5.0",
            "_model_name": "HBoxModel",
            "_view_count": null,
            "_view_module": "@jupyter-widgets/controls",
            "_view_module_version": "1.5.0",
            "_view_name": "HBoxView",
            "box_style": "",
            "children": [
              "IPY_MODEL_51d0fbcc7bf5463c8c9bb5261f461088",
              "IPY_MODEL_15f1639896f843e2bdae1cd1f89dc024",
              "IPY_MODEL_01ab601d7c7e4011a94c4c2711cd0137"
            ],
            "layout": "IPY_MODEL_1fbbf494ecb64bbf80c52cab5ac52830"
          }
        },
        "51d0fbcc7bf5463c8c9bb5261f461088": {
          "model_module": "@jupyter-widgets/controls",
          "model_name": "HTMLModel",
          "model_module_version": "1.5.0",
          "state": {
            "_dom_classes": [],
            "_model_module": "@jupyter-widgets/controls",
            "_model_module_version": "1.5.0",
            "_model_name": "HTMLModel",
            "_view_count": null,
            "_view_module": "@jupyter-widgets/controls",
            "_view_module_version": "1.5.0",
            "_view_name": "HTMLView",
            "description": "",
            "description_tooltip": null,
            "layout": "IPY_MODEL_f3aa0e1499a04b4f8d5ec71df7f70267",
            "placeholder": "​",
            "style": "IPY_MODEL_5a31d068f37b43668b2cfb3427dc0512",
            "value": "Downloading https://raw.githubusercontent.com/stanfordnlp/stanza-resources/main/resources_1.4.1.json: "
          }
        },
        "15f1639896f843e2bdae1cd1f89dc024": {
          "model_module": "@jupyter-widgets/controls",
          "model_name": "FloatProgressModel",
          "model_module_version": "1.5.0",
          "state": {
            "_dom_classes": [],
            "_model_module": "@jupyter-widgets/controls",
            "_model_module_version": "1.5.0",
            "_model_name": "FloatProgressModel",
            "_view_count": null,
            "_view_module": "@jupyter-widgets/controls",
            "_view_module_version": "1.5.0",
            "_view_name": "ProgressView",
            "bar_style": "success",
            "description": "",
            "description_tooltip": null,
            "layout": "IPY_MODEL_b22f1e4be97245ce8928113df972b210",
            "max": 28918,
            "min": 0,
            "orientation": "horizontal",
            "style": "IPY_MODEL_8e30d6a4e99647eab775f1864b3902b8",
            "value": 28918
          }
        },
        "01ab601d7c7e4011a94c4c2711cd0137": {
          "model_module": "@jupyter-widgets/controls",
          "model_name": "HTMLModel",
          "model_module_version": "1.5.0",
          "state": {
            "_dom_classes": [],
            "_model_module": "@jupyter-widgets/controls",
            "_model_module_version": "1.5.0",
            "_model_name": "HTMLModel",
            "_view_count": null,
            "_view_module": "@jupyter-widgets/controls",
            "_view_module_version": "1.5.0",
            "_view_name": "HTMLView",
            "description": "",
            "description_tooltip": null,
            "layout": "IPY_MODEL_1fc2bde125664343b3a9a6232cafe6b2",
            "placeholder": "​",
            "style": "IPY_MODEL_90bd25d6d87148dd8e1984a5866fe235",
            "value": " 193k/? [00:00&lt;00:00, 4.60MB/s]"
          }
        },
        "1fbbf494ecb64bbf80c52cab5ac52830": {
          "model_module": "@jupyter-widgets/base",
          "model_name": "LayoutModel",
          "model_module_version": "1.2.0",
          "state": {
            "_model_module": "@jupyter-widgets/base",
            "_model_module_version": "1.2.0",
            "_model_name": "LayoutModel",
            "_view_count": null,
            "_view_module": "@jupyter-widgets/base",
            "_view_module_version": "1.2.0",
            "_view_name": "LayoutView",
            "align_content": null,
            "align_items": null,
            "align_self": null,
            "border": null,
            "bottom": null,
            "display": null,
            "flex": null,
            "flex_flow": null,
            "grid_area": null,
            "grid_auto_columns": null,
            "grid_auto_flow": null,
            "grid_auto_rows": null,
            "grid_column": null,
            "grid_gap": null,
            "grid_row": null,
            "grid_template_areas": null,
            "grid_template_columns": null,
            "grid_template_rows": null,
            "height": null,
            "justify_content": null,
            "justify_items": null,
            "left": null,
            "margin": null,
            "max_height": null,
            "max_width": null,
            "min_height": null,
            "min_width": null,
            "object_fit": null,
            "object_position": null,
            "order": null,
            "overflow": null,
            "overflow_x": null,
            "overflow_y": null,
            "padding": null,
            "right": null,
            "top": null,
            "visibility": null,
            "width": null
          }
        },
        "f3aa0e1499a04b4f8d5ec71df7f70267": {
          "model_module": "@jupyter-widgets/base",
          "model_name": "LayoutModel",
          "model_module_version": "1.2.0",
          "state": {
            "_model_module": "@jupyter-widgets/base",
            "_model_module_version": "1.2.0",
            "_model_name": "LayoutModel",
            "_view_count": null,
            "_view_module": "@jupyter-widgets/base",
            "_view_module_version": "1.2.0",
            "_view_name": "LayoutView",
            "align_content": null,
            "align_items": null,
            "align_self": null,
            "border": null,
            "bottom": null,
            "display": null,
            "flex": null,
            "flex_flow": null,
            "grid_area": null,
            "grid_auto_columns": null,
            "grid_auto_flow": null,
            "grid_auto_rows": null,
            "grid_column": null,
            "grid_gap": null,
            "grid_row": null,
            "grid_template_areas": null,
            "grid_template_columns": null,
            "grid_template_rows": null,
            "height": null,
            "justify_content": null,
            "justify_items": null,
            "left": null,
            "margin": null,
            "max_height": null,
            "max_width": null,
            "min_height": null,
            "min_width": null,
            "object_fit": null,
            "object_position": null,
            "order": null,
            "overflow": null,
            "overflow_x": null,
            "overflow_y": null,
            "padding": null,
            "right": null,
            "top": null,
            "visibility": null,
            "width": null
          }
        },
        "5a31d068f37b43668b2cfb3427dc0512": {
          "model_module": "@jupyter-widgets/controls",
          "model_name": "DescriptionStyleModel",
          "model_module_version": "1.5.0",
          "state": {
            "_model_module": "@jupyter-widgets/controls",
            "_model_module_version": "1.5.0",
            "_model_name": "DescriptionStyleModel",
            "_view_count": null,
            "_view_module": "@jupyter-widgets/base",
            "_view_module_version": "1.2.0",
            "_view_name": "StyleView",
            "description_width": ""
          }
        },
        "b22f1e4be97245ce8928113df972b210": {
          "model_module": "@jupyter-widgets/base",
          "model_name": "LayoutModel",
          "model_module_version": "1.2.0",
          "state": {
            "_model_module": "@jupyter-widgets/base",
            "_model_module_version": "1.2.0",
            "_model_name": "LayoutModel",
            "_view_count": null,
            "_view_module": "@jupyter-widgets/base",
            "_view_module_version": "1.2.0",
            "_view_name": "LayoutView",
            "align_content": null,
            "align_items": null,
            "align_self": null,
            "border": null,
            "bottom": null,
            "display": null,
            "flex": null,
            "flex_flow": null,
            "grid_area": null,
            "grid_auto_columns": null,
            "grid_auto_flow": null,
            "grid_auto_rows": null,
            "grid_column": null,
            "grid_gap": null,
            "grid_row": null,
            "grid_template_areas": null,
            "grid_template_columns": null,
            "grid_template_rows": null,
            "height": null,
            "justify_content": null,
            "justify_items": null,
            "left": null,
            "margin": null,
            "max_height": null,
            "max_width": null,
            "min_height": null,
            "min_width": null,
            "object_fit": null,
            "object_position": null,
            "order": null,
            "overflow": null,
            "overflow_x": null,
            "overflow_y": null,
            "padding": null,
            "right": null,
            "top": null,
            "visibility": null,
            "width": null
          }
        },
        "8e30d6a4e99647eab775f1864b3902b8": {
          "model_module": "@jupyter-widgets/controls",
          "model_name": "ProgressStyleModel",
          "model_module_version": "1.5.0",
          "state": {
            "_model_module": "@jupyter-widgets/controls",
            "_model_module_version": "1.5.0",
            "_model_name": "ProgressStyleModel",
            "_view_count": null,
            "_view_module": "@jupyter-widgets/base",
            "_view_module_version": "1.2.0",
            "_view_name": "StyleView",
            "bar_color": null,
            "description_width": ""
          }
        },
        "1fc2bde125664343b3a9a6232cafe6b2": {
          "model_module": "@jupyter-widgets/base",
          "model_name": "LayoutModel",
          "model_module_version": "1.2.0",
          "state": {
            "_model_module": "@jupyter-widgets/base",
            "_model_module_version": "1.2.0",
            "_model_name": "LayoutModel",
            "_view_count": null,
            "_view_module": "@jupyter-widgets/base",
            "_view_module_version": "1.2.0",
            "_view_name": "LayoutView",
            "align_content": null,
            "align_items": null,
            "align_self": null,
            "border": null,
            "bottom": null,
            "display": null,
            "flex": null,
            "flex_flow": null,
            "grid_area": null,
            "grid_auto_columns": null,
            "grid_auto_flow": null,
            "grid_auto_rows": null,
            "grid_column": null,
            "grid_gap": null,
            "grid_row": null,
            "grid_template_areas": null,
            "grid_template_columns": null,
            "grid_template_rows": null,
            "height": null,
            "justify_content": null,
            "justify_items": null,
            "left": null,
            "margin": null,
            "max_height": null,
            "max_width": null,
            "min_height": null,
            "min_width": null,
            "object_fit": null,
            "object_position": null,
            "order": null,
            "overflow": null,
            "overflow_x": null,
            "overflow_y": null,
            "padding": null,
            "right": null,
            "top": null,
            "visibility": null,
            "width": null
          }
        },
        "90bd25d6d87148dd8e1984a5866fe235": {
          "model_module": "@jupyter-widgets/controls",
          "model_name": "DescriptionStyleModel",
          "model_module_version": "1.5.0",
          "state": {
            "_model_module": "@jupyter-widgets/controls",
            "_model_module_version": "1.5.0",
            "_model_name": "DescriptionStyleModel",
            "_view_count": null,
            "_view_module": "@jupyter-widgets/base",
            "_view_module_version": "1.2.0",
            "_view_name": "StyleView",
            "description_width": ""
          }
        },
        "e135505fb5944d4cb5fd997a58821f22": {
          "model_module": "@jupyter-widgets/controls",
          "model_name": "HBoxModel",
          "model_module_version": "1.5.0",
          "state": {
            "_dom_classes": [],
            "_model_module": "@jupyter-widgets/controls",
            "_model_module_version": "1.5.0",
            "_model_name": "HBoxModel",
            "_view_count": null,
            "_view_module": "@jupyter-widgets/controls",
            "_view_module_version": "1.5.0",
            "_view_name": "HBoxView",
            "box_style": "",
            "children": [
              "IPY_MODEL_512fd6d10d24461e9c354af0ef729bc6",
              "IPY_MODEL_5e3f17b2a09c4145b5cefd6a9740dfdf",
              "IPY_MODEL_b33b9d55907341bb833e7a4c332c900d"
            ],
            "layout": "IPY_MODEL_73fd8949740247d882f80bbfde765a2d"
          }
        },
        "512fd6d10d24461e9c354af0ef729bc6": {
          "model_module": "@jupyter-widgets/controls",
          "model_name": "HTMLModel",
          "model_module_version": "1.5.0",
          "state": {
            "_dom_classes": [],
            "_model_module": "@jupyter-widgets/controls",
            "_model_module_version": "1.5.0",
            "_model_name": "HTMLModel",
            "_view_count": null,
            "_view_module": "@jupyter-widgets/controls",
            "_view_module_version": "1.5.0",
            "_view_name": "HTMLView",
            "description": "",
            "description_tooltip": null,
            "layout": "IPY_MODEL_1894716cc13b43ee9125ff6797665db3",
            "placeholder": "​",
            "style": "IPY_MODEL_8ddf9e1b348f44e7bf20aa6c558fe442",
            "value": "Downloading https://raw.githubusercontent.com/stanfordnlp/stanza-resources/main/resources_1.4.1.json: "
          }
        },
        "5e3f17b2a09c4145b5cefd6a9740dfdf": {
          "model_module": "@jupyter-widgets/controls",
          "model_name": "FloatProgressModel",
          "model_module_version": "1.5.0",
          "state": {
            "_dom_classes": [],
            "_model_module": "@jupyter-widgets/controls",
            "_model_module_version": "1.5.0",
            "_model_name": "FloatProgressModel",
            "_view_count": null,
            "_view_module": "@jupyter-widgets/controls",
            "_view_module_version": "1.5.0",
            "_view_name": "ProgressView",
            "bar_style": "success",
            "description": "",
            "description_tooltip": null,
            "layout": "IPY_MODEL_72f3be2f793a4e6e9eff5b557e14960e",
            "max": 28918,
            "min": 0,
            "orientation": "horizontal",
            "style": "IPY_MODEL_ae9435bd51fd4e798143ea2bc39189cd",
            "value": 28918
          }
        },
        "b33b9d55907341bb833e7a4c332c900d": {
          "model_module": "@jupyter-widgets/controls",
          "model_name": "HTMLModel",
          "model_module_version": "1.5.0",
          "state": {
            "_dom_classes": [],
            "_model_module": "@jupyter-widgets/controls",
            "_model_module_version": "1.5.0",
            "_model_name": "HTMLModel",
            "_view_count": null,
            "_view_module": "@jupyter-widgets/controls",
            "_view_module_version": "1.5.0",
            "_view_name": "HTMLView",
            "description": "",
            "description_tooltip": null,
            "layout": "IPY_MODEL_1056bb98936e43d7bccd5b26fa91f1d7",
            "placeholder": "​",
            "style": "IPY_MODEL_f879432c3c6a40e88e49a55287b34967",
            "value": " 193k/? [00:00&lt;00:00, 1.94MB/s]"
          }
        },
        "73fd8949740247d882f80bbfde765a2d": {
          "model_module": "@jupyter-widgets/base",
          "model_name": "LayoutModel",
          "model_module_version": "1.2.0",
          "state": {
            "_model_module": "@jupyter-widgets/base",
            "_model_module_version": "1.2.0",
            "_model_name": "LayoutModel",
            "_view_count": null,
            "_view_module": "@jupyter-widgets/base",
            "_view_module_version": "1.2.0",
            "_view_name": "LayoutView",
            "align_content": null,
            "align_items": null,
            "align_self": null,
            "border": null,
            "bottom": null,
            "display": null,
            "flex": null,
            "flex_flow": null,
            "grid_area": null,
            "grid_auto_columns": null,
            "grid_auto_flow": null,
            "grid_auto_rows": null,
            "grid_column": null,
            "grid_gap": null,
            "grid_row": null,
            "grid_template_areas": null,
            "grid_template_columns": null,
            "grid_template_rows": null,
            "height": null,
            "justify_content": null,
            "justify_items": null,
            "left": null,
            "margin": null,
            "max_height": null,
            "max_width": null,
            "min_height": null,
            "min_width": null,
            "object_fit": null,
            "object_position": null,
            "order": null,
            "overflow": null,
            "overflow_x": null,
            "overflow_y": null,
            "padding": null,
            "right": null,
            "top": null,
            "visibility": null,
            "width": null
          }
        },
        "1894716cc13b43ee9125ff6797665db3": {
          "model_module": "@jupyter-widgets/base",
          "model_name": "LayoutModel",
          "model_module_version": "1.2.0",
          "state": {
            "_model_module": "@jupyter-widgets/base",
            "_model_module_version": "1.2.0",
            "_model_name": "LayoutModel",
            "_view_count": null,
            "_view_module": "@jupyter-widgets/base",
            "_view_module_version": "1.2.0",
            "_view_name": "LayoutView",
            "align_content": null,
            "align_items": null,
            "align_self": null,
            "border": null,
            "bottom": null,
            "display": null,
            "flex": null,
            "flex_flow": null,
            "grid_area": null,
            "grid_auto_columns": null,
            "grid_auto_flow": null,
            "grid_auto_rows": null,
            "grid_column": null,
            "grid_gap": null,
            "grid_row": null,
            "grid_template_areas": null,
            "grid_template_columns": null,
            "grid_template_rows": null,
            "height": null,
            "justify_content": null,
            "justify_items": null,
            "left": null,
            "margin": null,
            "max_height": null,
            "max_width": null,
            "min_height": null,
            "min_width": null,
            "object_fit": null,
            "object_position": null,
            "order": null,
            "overflow": null,
            "overflow_x": null,
            "overflow_y": null,
            "padding": null,
            "right": null,
            "top": null,
            "visibility": null,
            "width": null
          }
        },
        "8ddf9e1b348f44e7bf20aa6c558fe442": {
          "model_module": "@jupyter-widgets/controls",
          "model_name": "DescriptionStyleModel",
          "model_module_version": "1.5.0",
          "state": {
            "_model_module": "@jupyter-widgets/controls",
            "_model_module_version": "1.5.0",
            "_model_name": "DescriptionStyleModel",
            "_view_count": null,
            "_view_module": "@jupyter-widgets/base",
            "_view_module_version": "1.2.0",
            "_view_name": "StyleView",
            "description_width": ""
          }
        },
        "72f3be2f793a4e6e9eff5b557e14960e": {
          "model_module": "@jupyter-widgets/base",
          "model_name": "LayoutModel",
          "model_module_version": "1.2.0",
          "state": {
            "_model_module": "@jupyter-widgets/base",
            "_model_module_version": "1.2.0",
            "_model_name": "LayoutModel",
            "_view_count": null,
            "_view_module": "@jupyter-widgets/base",
            "_view_module_version": "1.2.0",
            "_view_name": "LayoutView",
            "align_content": null,
            "align_items": null,
            "align_self": null,
            "border": null,
            "bottom": null,
            "display": null,
            "flex": null,
            "flex_flow": null,
            "grid_area": null,
            "grid_auto_columns": null,
            "grid_auto_flow": null,
            "grid_auto_rows": null,
            "grid_column": null,
            "grid_gap": null,
            "grid_row": null,
            "grid_template_areas": null,
            "grid_template_columns": null,
            "grid_template_rows": null,
            "height": null,
            "justify_content": null,
            "justify_items": null,
            "left": null,
            "margin": null,
            "max_height": null,
            "max_width": null,
            "min_height": null,
            "min_width": null,
            "object_fit": null,
            "object_position": null,
            "order": null,
            "overflow": null,
            "overflow_x": null,
            "overflow_y": null,
            "padding": null,
            "right": null,
            "top": null,
            "visibility": null,
            "width": null
          }
        },
        "ae9435bd51fd4e798143ea2bc39189cd": {
          "model_module": "@jupyter-widgets/controls",
          "model_name": "ProgressStyleModel",
          "model_module_version": "1.5.0",
          "state": {
            "_model_module": "@jupyter-widgets/controls",
            "_model_module_version": "1.5.0",
            "_model_name": "ProgressStyleModel",
            "_view_count": null,
            "_view_module": "@jupyter-widgets/base",
            "_view_module_version": "1.2.0",
            "_view_name": "StyleView",
            "bar_color": null,
            "description_width": ""
          }
        },
        "1056bb98936e43d7bccd5b26fa91f1d7": {
          "model_module": "@jupyter-widgets/base",
          "model_name": "LayoutModel",
          "model_module_version": "1.2.0",
          "state": {
            "_model_module": "@jupyter-widgets/base",
            "_model_module_version": "1.2.0",
            "_model_name": "LayoutModel",
            "_view_count": null,
            "_view_module": "@jupyter-widgets/base",
            "_view_module_version": "1.2.0",
            "_view_name": "LayoutView",
            "align_content": null,
            "align_items": null,
            "align_self": null,
            "border": null,
            "bottom": null,
            "display": null,
            "flex": null,
            "flex_flow": null,
            "grid_area": null,
            "grid_auto_columns": null,
            "grid_auto_flow": null,
            "grid_auto_rows": null,
            "grid_column": null,
            "grid_gap": null,
            "grid_row": null,
            "grid_template_areas": null,
            "grid_template_columns": null,
            "grid_template_rows": null,
            "height": null,
            "justify_content": null,
            "justify_items": null,
            "left": null,
            "margin": null,
            "max_height": null,
            "max_width": null,
            "min_height": null,
            "min_width": null,
            "object_fit": null,
            "object_position": null,
            "order": null,
            "overflow": null,
            "overflow_x": null,
            "overflow_y": null,
            "padding": null,
            "right": null,
            "top": null,
            "visibility": null,
            "width": null
          }
        },
        "f879432c3c6a40e88e49a55287b34967": {
          "model_module": "@jupyter-widgets/controls",
          "model_name": "DescriptionStyleModel",
          "model_module_version": "1.5.0",
          "state": {
            "_model_module": "@jupyter-widgets/controls",
            "_model_module_version": "1.5.0",
            "_model_name": "DescriptionStyleModel",
            "_view_count": null,
            "_view_module": "@jupyter-widgets/base",
            "_view_module_version": "1.2.0",
            "_view_name": "StyleView",
            "description_width": ""
          }
        },
        "ba9dceccfd1f41dda69346a84d626003": {
          "model_module": "@jupyter-widgets/controls",
          "model_name": "HBoxModel",
          "model_module_version": "1.5.0",
          "state": {
            "_dom_classes": [],
            "_model_module": "@jupyter-widgets/controls",
            "_model_module_version": "1.5.0",
            "_model_name": "HBoxModel",
            "_view_count": null,
            "_view_module": "@jupyter-widgets/controls",
            "_view_module_version": "1.5.0",
            "_view_name": "HBoxView",
            "box_style": "",
            "children": [
              "IPY_MODEL_34c9a8157b674aa699351a3205b46464",
              "IPY_MODEL_53737a85b6c8427aa0d352d22a0c7004",
              "IPY_MODEL_71ae8e5d1f7d4cc0ace351b3a8c6f475"
            ],
            "layout": "IPY_MODEL_ec553e9eb95040da8e5b97271c39cbe3"
          }
        },
        "34c9a8157b674aa699351a3205b46464": {
          "model_module": "@jupyter-widgets/controls",
          "model_name": "HTMLModel",
          "model_module_version": "1.5.0",
          "state": {
            "_dom_classes": [],
            "_model_module": "@jupyter-widgets/controls",
            "_model_module_version": "1.5.0",
            "_model_name": "HTMLModel",
            "_view_count": null,
            "_view_module": "@jupyter-widgets/controls",
            "_view_module_version": "1.5.0",
            "_view_name": "HTMLView",
            "description": "",
            "description_tooltip": null,
            "layout": "IPY_MODEL_b1491948bdf24d5e97e2bd22c435aa4a",
            "placeholder": "​",
            "style": "IPY_MODEL_91f8aa13f84d45fe916f840d044a516d",
            "value": "100%"
          }
        },
        "53737a85b6c8427aa0d352d22a0c7004": {
          "model_module": "@jupyter-widgets/controls",
          "model_name": "FloatProgressModel",
          "model_module_version": "1.5.0",
          "state": {
            "_dom_classes": [],
            "_model_module": "@jupyter-widgets/controls",
            "_model_module_version": "1.5.0",
            "_model_name": "FloatProgressModel",
            "_view_count": null,
            "_view_module": "@jupyter-widgets/controls",
            "_view_module_version": "1.5.0",
            "_view_name": "ProgressView",
            "bar_style": "success",
            "description": "",
            "description_tooltip": null,
            "layout": "IPY_MODEL_947a61bf64b643c08decff8fb6aef12e",
            "max": 213,
            "min": 0,
            "orientation": "horizontal",
            "style": "IPY_MODEL_ef4ea3b8b5034da985cad43fdb744fa1",
            "value": 213
          }
        },
        "71ae8e5d1f7d4cc0ace351b3a8c6f475": {
          "model_module": "@jupyter-widgets/controls",
          "model_name": "HTMLModel",
          "model_module_version": "1.5.0",
          "state": {
            "_dom_classes": [],
            "_model_module": "@jupyter-widgets/controls",
            "_model_module_version": "1.5.0",
            "_model_name": "HTMLModel",
            "_view_count": null,
            "_view_module": "@jupyter-widgets/controls",
            "_view_module_version": "1.5.0",
            "_view_name": "HTMLView",
            "description": "",
            "description_tooltip": null,
            "layout": "IPY_MODEL_33f4153fe3d24824a6232b879bb5f623",
            "placeholder": "​",
            "style": "IPY_MODEL_555cc642152b4335b3d510c4f51c523a",
            "value": " 213/213 [00:29&lt;00:00, 11.86it/s]"
          }
        },
        "ec553e9eb95040da8e5b97271c39cbe3": {
          "model_module": "@jupyter-widgets/base",
          "model_name": "LayoutModel",
          "model_module_version": "1.2.0",
          "state": {
            "_model_module": "@jupyter-widgets/base",
            "_model_module_version": "1.2.0",
            "_model_name": "LayoutModel",
            "_view_count": null,
            "_view_module": "@jupyter-widgets/base",
            "_view_module_version": "1.2.0",
            "_view_name": "LayoutView",
            "align_content": null,
            "align_items": null,
            "align_self": null,
            "border": null,
            "bottom": null,
            "display": null,
            "flex": null,
            "flex_flow": null,
            "grid_area": null,
            "grid_auto_columns": null,
            "grid_auto_flow": null,
            "grid_auto_rows": null,
            "grid_column": null,
            "grid_gap": null,
            "grid_row": null,
            "grid_template_areas": null,
            "grid_template_columns": null,
            "grid_template_rows": null,
            "height": null,
            "justify_content": null,
            "justify_items": null,
            "left": null,
            "margin": null,
            "max_height": null,
            "max_width": null,
            "min_height": null,
            "min_width": null,
            "object_fit": null,
            "object_position": null,
            "order": null,
            "overflow": null,
            "overflow_x": null,
            "overflow_y": null,
            "padding": null,
            "right": null,
            "top": null,
            "visibility": null,
            "width": null
          }
        },
        "b1491948bdf24d5e97e2bd22c435aa4a": {
          "model_module": "@jupyter-widgets/base",
          "model_name": "LayoutModel",
          "model_module_version": "1.2.0",
          "state": {
            "_model_module": "@jupyter-widgets/base",
            "_model_module_version": "1.2.0",
            "_model_name": "LayoutModel",
            "_view_count": null,
            "_view_module": "@jupyter-widgets/base",
            "_view_module_version": "1.2.0",
            "_view_name": "LayoutView",
            "align_content": null,
            "align_items": null,
            "align_self": null,
            "border": null,
            "bottom": null,
            "display": null,
            "flex": null,
            "flex_flow": null,
            "grid_area": null,
            "grid_auto_columns": null,
            "grid_auto_flow": null,
            "grid_auto_rows": null,
            "grid_column": null,
            "grid_gap": null,
            "grid_row": null,
            "grid_template_areas": null,
            "grid_template_columns": null,
            "grid_template_rows": null,
            "height": null,
            "justify_content": null,
            "justify_items": null,
            "left": null,
            "margin": null,
            "max_height": null,
            "max_width": null,
            "min_height": null,
            "min_width": null,
            "object_fit": null,
            "object_position": null,
            "order": null,
            "overflow": null,
            "overflow_x": null,
            "overflow_y": null,
            "padding": null,
            "right": null,
            "top": null,
            "visibility": null,
            "width": null
          }
        },
        "91f8aa13f84d45fe916f840d044a516d": {
          "model_module": "@jupyter-widgets/controls",
          "model_name": "DescriptionStyleModel",
          "model_module_version": "1.5.0",
          "state": {
            "_model_module": "@jupyter-widgets/controls",
            "_model_module_version": "1.5.0",
            "_model_name": "DescriptionStyleModel",
            "_view_count": null,
            "_view_module": "@jupyter-widgets/base",
            "_view_module_version": "1.2.0",
            "_view_name": "StyleView",
            "description_width": ""
          }
        },
        "947a61bf64b643c08decff8fb6aef12e": {
          "model_module": "@jupyter-widgets/base",
          "model_name": "LayoutModel",
          "model_module_version": "1.2.0",
          "state": {
            "_model_module": "@jupyter-widgets/base",
            "_model_module_version": "1.2.0",
            "_model_name": "LayoutModel",
            "_view_count": null,
            "_view_module": "@jupyter-widgets/base",
            "_view_module_version": "1.2.0",
            "_view_name": "LayoutView",
            "align_content": null,
            "align_items": null,
            "align_self": null,
            "border": null,
            "bottom": null,
            "display": null,
            "flex": null,
            "flex_flow": null,
            "grid_area": null,
            "grid_auto_columns": null,
            "grid_auto_flow": null,
            "grid_auto_rows": null,
            "grid_column": null,
            "grid_gap": null,
            "grid_row": null,
            "grid_template_areas": null,
            "grid_template_columns": null,
            "grid_template_rows": null,
            "height": null,
            "justify_content": null,
            "justify_items": null,
            "left": null,
            "margin": null,
            "max_height": null,
            "max_width": null,
            "min_height": null,
            "min_width": null,
            "object_fit": null,
            "object_position": null,
            "order": null,
            "overflow": null,
            "overflow_x": null,
            "overflow_y": null,
            "padding": null,
            "right": null,
            "top": null,
            "visibility": null,
            "width": null
          }
        },
        "ef4ea3b8b5034da985cad43fdb744fa1": {
          "model_module": "@jupyter-widgets/controls",
          "model_name": "ProgressStyleModel",
          "model_module_version": "1.5.0",
          "state": {
            "_model_module": "@jupyter-widgets/controls",
            "_model_module_version": "1.5.0",
            "_model_name": "ProgressStyleModel",
            "_view_count": null,
            "_view_module": "@jupyter-widgets/base",
            "_view_module_version": "1.2.0",
            "_view_name": "StyleView",
            "bar_color": null,
            "description_width": ""
          }
        },
        "33f4153fe3d24824a6232b879bb5f623": {
          "model_module": "@jupyter-widgets/base",
          "model_name": "LayoutModel",
          "model_module_version": "1.2.0",
          "state": {
            "_model_module": "@jupyter-widgets/base",
            "_model_module_version": "1.2.0",
            "_model_name": "LayoutModel",
            "_view_count": null,
            "_view_module": "@jupyter-widgets/base",
            "_view_module_version": "1.2.0",
            "_view_name": "LayoutView",
            "align_content": null,
            "align_items": null,
            "align_self": null,
            "border": null,
            "bottom": null,
            "display": null,
            "flex": null,
            "flex_flow": null,
            "grid_area": null,
            "grid_auto_columns": null,
            "grid_auto_flow": null,
            "grid_auto_rows": null,
            "grid_column": null,
            "grid_gap": null,
            "grid_row": null,
            "grid_template_areas": null,
            "grid_template_columns": null,
            "grid_template_rows": null,
            "height": null,
            "justify_content": null,
            "justify_items": null,
            "left": null,
            "margin": null,
            "max_height": null,
            "max_width": null,
            "min_height": null,
            "min_width": null,
            "object_fit": null,
            "object_position": null,
            "order": null,
            "overflow": null,
            "overflow_x": null,
            "overflow_y": null,
            "padding": null,
            "right": null,
            "top": null,
            "visibility": null,
            "width": null
          }
        },
        "555cc642152b4335b3d510c4f51c523a": {
          "model_module": "@jupyter-widgets/controls",
          "model_name": "DescriptionStyleModel",
          "model_module_version": "1.5.0",
          "state": {
            "_model_module": "@jupyter-widgets/controls",
            "_model_module_version": "1.5.0",
            "_model_name": "DescriptionStyleModel",
            "_view_count": null,
            "_view_module": "@jupyter-widgets/base",
            "_view_module_version": "1.2.0",
            "_view_name": "StyleView",
            "description_width": ""
          }
        },
        "65f4547ea73c462f82c3e6487c13532a": {
          "model_module": "@jupyter-widgets/controls",
          "model_name": "HBoxModel",
          "model_module_version": "1.5.0",
          "state": {
            "_dom_classes": [],
            "_model_module": "@jupyter-widgets/controls",
            "_model_module_version": "1.5.0",
            "_model_name": "HBoxModel",
            "_view_count": null,
            "_view_module": "@jupyter-widgets/controls",
            "_view_module_version": "1.5.0",
            "_view_name": "HBoxView",
            "box_style": "",
            "children": [
              "IPY_MODEL_e18d49d465dc42e9860b414755b35ff0",
              "IPY_MODEL_0dd2ee988e5c477dbf78b95367dacd1c",
              "IPY_MODEL_e05d02fe7bdd43ce84d556d88d0c9ff8"
            ],
            "layout": "IPY_MODEL_c4557e81e3024efa9e8d1528d0bd7e4f"
          }
        },
        "e18d49d465dc42e9860b414755b35ff0": {
          "model_module": "@jupyter-widgets/controls",
          "model_name": "HTMLModel",
          "model_module_version": "1.5.0",
          "state": {
            "_dom_classes": [],
            "_model_module": "@jupyter-widgets/controls",
            "_model_module_version": "1.5.0",
            "_model_name": "HTMLModel",
            "_view_count": null,
            "_view_module": "@jupyter-widgets/controls",
            "_view_module_version": "1.5.0",
            "_view_name": "HTMLView",
            "description": "",
            "description_tooltip": null,
            "layout": "IPY_MODEL_43b97d958cd542319e12e85804aa215f",
            "placeholder": "​",
            "style": "IPY_MODEL_b99028a06917494fb303419e2199f76a",
            "value": "100%"
          }
        },
        "0dd2ee988e5c477dbf78b95367dacd1c": {
          "model_module": "@jupyter-widgets/controls",
          "model_name": "FloatProgressModel",
          "model_module_version": "1.5.0",
          "state": {
            "_dom_classes": [],
            "_model_module": "@jupyter-widgets/controls",
            "_model_module_version": "1.5.0",
            "_model_name": "FloatProgressModel",
            "_view_count": null,
            "_view_module": "@jupyter-widgets/controls",
            "_view_module_version": "1.5.0",
            "_view_name": "ProgressView",
            "bar_style": "success",
            "description": "",
            "description_tooltip": null,
            "layout": "IPY_MODEL_bc925888f9064896a3c4981be69b1f72",
            "max": 71,
            "min": 0,
            "orientation": "horizontal",
            "style": "IPY_MODEL_8fde6a02f1224c8f8adc43180a02b791",
            "value": 71
          }
        },
        "e05d02fe7bdd43ce84d556d88d0c9ff8": {
          "model_module": "@jupyter-widgets/controls",
          "model_name": "HTMLModel",
          "model_module_version": "1.5.0",
          "state": {
            "_dom_classes": [],
            "_model_module": "@jupyter-widgets/controls",
            "_model_module_version": "1.5.0",
            "_model_name": "HTMLModel",
            "_view_count": null,
            "_view_module": "@jupyter-widgets/controls",
            "_view_module_version": "1.5.0",
            "_view_name": "HTMLView",
            "description": "",
            "description_tooltip": null,
            "layout": "IPY_MODEL_0f48ccfeee024cf0ae33217060d9eb02",
            "placeholder": "​",
            "style": "IPY_MODEL_f43031ffb7814ae0ba7bd10375050b75",
            "value": " 71/71 [00:06&lt;00:00, 10.98it/s]"
          }
        },
        "c4557e81e3024efa9e8d1528d0bd7e4f": {
          "model_module": "@jupyter-widgets/base",
          "model_name": "LayoutModel",
          "model_module_version": "1.2.0",
          "state": {
            "_model_module": "@jupyter-widgets/base",
            "_model_module_version": "1.2.0",
            "_model_name": "LayoutModel",
            "_view_count": null,
            "_view_module": "@jupyter-widgets/base",
            "_view_module_version": "1.2.0",
            "_view_name": "LayoutView",
            "align_content": null,
            "align_items": null,
            "align_self": null,
            "border": null,
            "bottom": null,
            "display": null,
            "flex": null,
            "flex_flow": null,
            "grid_area": null,
            "grid_auto_columns": null,
            "grid_auto_flow": null,
            "grid_auto_rows": null,
            "grid_column": null,
            "grid_gap": null,
            "grid_row": null,
            "grid_template_areas": null,
            "grid_template_columns": null,
            "grid_template_rows": null,
            "height": null,
            "justify_content": null,
            "justify_items": null,
            "left": null,
            "margin": null,
            "max_height": null,
            "max_width": null,
            "min_height": null,
            "min_width": null,
            "object_fit": null,
            "object_position": null,
            "order": null,
            "overflow": null,
            "overflow_x": null,
            "overflow_y": null,
            "padding": null,
            "right": null,
            "top": null,
            "visibility": null,
            "width": null
          }
        },
        "43b97d958cd542319e12e85804aa215f": {
          "model_module": "@jupyter-widgets/base",
          "model_name": "LayoutModel",
          "model_module_version": "1.2.0",
          "state": {
            "_model_module": "@jupyter-widgets/base",
            "_model_module_version": "1.2.0",
            "_model_name": "LayoutModel",
            "_view_count": null,
            "_view_module": "@jupyter-widgets/base",
            "_view_module_version": "1.2.0",
            "_view_name": "LayoutView",
            "align_content": null,
            "align_items": null,
            "align_self": null,
            "border": null,
            "bottom": null,
            "display": null,
            "flex": null,
            "flex_flow": null,
            "grid_area": null,
            "grid_auto_columns": null,
            "grid_auto_flow": null,
            "grid_auto_rows": null,
            "grid_column": null,
            "grid_gap": null,
            "grid_row": null,
            "grid_template_areas": null,
            "grid_template_columns": null,
            "grid_template_rows": null,
            "height": null,
            "justify_content": null,
            "justify_items": null,
            "left": null,
            "margin": null,
            "max_height": null,
            "max_width": null,
            "min_height": null,
            "min_width": null,
            "object_fit": null,
            "object_position": null,
            "order": null,
            "overflow": null,
            "overflow_x": null,
            "overflow_y": null,
            "padding": null,
            "right": null,
            "top": null,
            "visibility": null,
            "width": null
          }
        },
        "b99028a06917494fb303419e2199f76a": {
          "model_module": "@jupyter-widgets/controls",
          "model_name": "DescriptionStyleModel",
          "model_module_version": "1.5.0",
          "state": {
            "_model_module": "@jupyter-widgets/controls",
            "_model_module_version": "1.5.0",
            "_model_name": "DescriptionStyleModel",
            "_view_count": null,
            "_view_module": "@jupyter-widgets/base",
            "_view_module_version": "1.2.0",
            "_view_name": "StyleView",
            "description_width": ""
          }
        },
        "bc925888f9064896a3c4981be69b1f72": {
          "model_module": "@jupyter-widgets/base",
          "model_name": "LayoutModel",
          "model_module_version": "1.2.0",
          "state": {
            "_model_module": "@jupyter-widgets/base",
            "_model_module_version": "1.2.0",
            "_model_name": "LayoutModel",
            "_view_count": null,
            "_view_module": "@jupyter-widgets/base",
            "_view_module_version": "1.2.0",
            "_view_name": "LayoutView",
            "align_content": null,
            "align_items": null,
            "align_self": null,
            "border": null,
            "bottom": null,
            "display": null,
            "flex": null,
            "flex_flow": null,
            "grid_area": null,
            "grid_auto_columns": null,
            "grid_auto_flow": null,
            "grid_auto_rows": null,
            "grid_column": null,
            "grid_gap": null,
            "grid_row": null,
            "grid_template_areas": null,
            "grid_template_columns": null,
            "grid_template_rows": null,
            "height": null,
            "justify_content": null,
            "justify_items": null,
            "left": null,
            "margin": null,
            "max_height": null,
            "max_width": null,
            "min_height": null,
            "min_width": null,
            "object_fit": null,
            "object_position": null,
            "order": null,
            "overflow": null,
            "overflow_x": null,
            "overflow_y": null,
            "padding": null,
            "right": null,
            "top": null,
            "visibility": null,
            "width": null
          }
        },
        "8fde6a02f1224c8f8adc43180a02b791": {
          "model_module": "@jupyter-widgets/controls",
          "model_name": "ProgressStyleModel",
          "model_module_version": "1.5.0",
          "state": {
            "_model_module": "@jupyter-widgets/controls",
            "_model_module_version": "1.5.0",
            "_model_name": "ProgressStyleModel",
            "_view_count": null,
            "_view_module": "@jupyter-widgets/base",
            "_view_module_version": "1.2.0",
            "_view_name": "StyleView",
            "bar_color": null,
            "description_width": ""
          }
        },
        "0f48ccfeee024cf0ae33217060d9eb02": {
          "model_module": "@jupyter-widgets/base",
          "model_name": "LayoutModel",
          "model_module_version": "1.2.0",
          "state": {
            "_model_module": "@jupyter-widgets/base",
            "_model_module_version": "1.2.0",
            "_model_name": "LayoutModel",
            "_view_count": null,
            "_view_module": "@jupyter-widgets/base",
            "_view_module_version": "1.2.0",
            "_view_name": "LayoutView",
            "align_content": null,
            "align_items": null,
            "align_self": null,
            "border": null,
            "bottom": null,
            "display": null,
            "flex": null,
            "flex_flow": null,
            "grid_area": null,
            "grid_auto_columns": null,
            "grid_auto_flow": null,
            "grid_auto_rows": null,
            "grid_column": null,
            "grid_gap": null,
            "grid_row": null,
            "grid_template_areas": null,
            "grid_template_columns": null,
            "grid_template_rows": null,
            "height": null,
            "justify_content": null,
            "justify_items": null,
            "left": null,
            "margin": null,
            "max_height": null,
            "max_width": null,
            "min_height": null,
            "min_width": null,
            "object_fit": null,
            "object_position": null,
            "order": null,
            "overflow": null,
            "overflow_x": null,
            "overflow_y": null,
            "padding": null,
            "right": null,
            "top": null,
            "visibility": null,
            "width": null
          }
        },
        "f43031ffb7814ae0ba7bd10375050b75": {
          "model_module": "@jupyter-widgets/controls",
          "model_name": "DescriptionStyleModel",
          "model_module_version": "1.5.0",
          "state": {
            "_model_module": "@jupyter-widgets/controls",
            "_model_module_version": "1.5.0",
            "_model_name": "DescriptionStyleModel",
            "_view_count": null,
            "_view_module": "@jupyter-widgets/base",
            "_view_module_version": "1.2.0",
            "_view_name": "StyleView",
            "description_width": ""
          }
        },
        "d31ef90c53c2469193f6237e85d38821": {
          "model_module": "@jupyter-widgets/controls",
          "model_name": "HBoxModel",
          "model_module_version": "1.5.0",
          "state": {
            "_dom_classes": [],
            "_model_module": "@jupyter-widgets/controls",
            "_model_module_version": "1.5.0",
            "_model_name": "HBoxModel",
            "_view_count": null,
            "_view_module": "@jupyter-widgets/controls",
            "_view_module_version": "1.5.0",
            "_view_name": "HBoxView",
            "box_style": "",
            "children": [
              "IPY_MODEL_778b05c7da5248ab8210c35a760ad3f4",
              "IPY_MODEL_0447a7359db54649b4a19c0872abaa3a",
              "IPY_MODEL_942ee6656874465b99baaaebc17945d7"
            ],
            "layout": "IPY_MODEL_f60ca71280424b74a74838b7cec8bd17"
          }
        },
        "778b05c7da5248ab8210c35a760ad3f4": {
          "model_module": "@jupyter-widgets/controls",
          "model_name": "HTMLModel",
          "model_module_version": "1.5.0",
          "state": {
            "_dom_classes": [],
            "_model_module": "@jupyter-widgets/controls",
            "_model_module_version": "1.5.0",
            "_model_name": "HTMLModel",
            "_view_count": null,
            "_view_module": "@jupyter-widgets/controls",
            "_view_module_version": "1.5.0",
            "_view_name": "HTMLView",
            "description": "",
            "description_tooltip": null,
            "layout": "IPY_MODEL_04fdf8225f6d4dbc93e7e6ba7a81be18",
            "placeholder": "​",
            "style": "IPY_MODEL_46a06620521e44d699e619b8df4fa3aa",
            "value": "100%"
          }
        },
        "0447a7359db54649b4a19c0872abaa3a": {
          "model_module": "@jupyter-widgets/controls",
          "model_name": "FloatProgressModel",
          "model_module_version": "1.5.0",
          "state": {
            "_dom_classes": [],
            "_model_module": "@jupyter-widgets/controls",
            "_model_module_version": "1.5.0",
            "_model_name": "FloatProgressModel",
            "_view_count": null,
            "_view_module": "@jupyter-widgets/controls",
            "_view_module_version": "1.5.0",
            "_view_name": "ProgressView",
            "bar_style": "success",
            "description": "",
            "description_tooltip": null,
            "layout": "IPY_MODEL_6cccbc6b53434ce988bedae597f7a1a4",
            "max": 71,
            "min": 0,
            "orientation": "horizontal",
            "style": "IPY_MODEL_184ffc467c9c4635b42356beb7c1721a",
            "value": 71
          }
        },
        "942ee6656874465b99baaaebc17945d7": {
          "model_module": "@jupyter-widgets/controls",
          "model_name": "HTMLModel",
          "model_module_version": "1.5.0",
          "state": {
            "_dom_classes": [],
            "_model_module": "@jupyter-widgets/controls",
            "_model_module_version": "1.5.0",
            "_model_name": "HTMLModel",
            "_view_count": null,
            "_view_module": "@jupyter-widgets/controls",
            "_view_module_version": "1.5.0",
            "_view_name": "HTMLView",
            "description": "",
            "description_tooltip": null,
            "layout": "IPY_MODEL_8d35508562fd482999bd355b6861e4b9",
            "placeholder": "​",
            "style": "IPY_MODEL_70d95b9116da49d69fc23003aed40c52",
            "value": " 71/71 [00:13&lt;00:00,  3.90it/s]"
          }
        },
        "f60ca71280424b74a74838b7cec8bd17": {
          "model_module": "@jupyter-widgets/base",
          "model_name": "LayoutModel",
          "model_module_version": "1.2.0",
          "state": {
            "_model_module": "@jupyter-widgets/base",
            "_model_module_version": "1.2.0",
            "_model_name": "LayoutModel",
            "_view_count": null,
            "_view_module": "@jupyter-widgets/base",
            "_view_module_version": "1.2.0",
            "_view_name": "LayoutView",
            "align_content": null,
            "align_items": null,
            "align_self": null,
            "border": null,
            "bottom": null,
            "display": null,
            "flex": null,
            "flex_flow": null,
            "grid_area": null,
            "grid_auto_columns": null,
            "grid_auto_flow": null,
            "grid_auto_rows": null,
            "grid_column": null,
            "grid_gap": null,
            "grid_row": null,
            "grid_template_areas": null,
            "grid_template_columns": null,
            "grid_template_rows": null,
            "height": null,
            "justify_content": null,
            "justify_items": null,
            "left": null,
            "margin": null,
            "max_height": null,
            "max_width": null,
            "min_height": null,
            "min_width": null,
            "object_fit": null,
            "object_position": null,
            "order": null,
            "overflow": null,
            "overflow_x": null,
            "overflow_y": null,
            "padding": null,
            "right": null,
            "top": null,
            "visibility": null,
            "width": null
          }
        },
        "04fdf8225f6d4dbc93e7e6ba7a81be18": {
          "model_module": "@jupyter-widgets/base",
          "model_name": "LayoutModel",
          "model_module_version": "1.2.0",
          "state": {
            "_model_module": "@jupyter-widgets/base",
            "_model_module_version": "1.2.0",
            "_model_name": "LayoutModel",
            "_view_count": null,
            "_view_module": "@jupyter-widgets/base",
            "_view_module_version": "1.2.0",
            "_view_name": "LayoutView",
            "align_content": null,
            "align_items": null,
            "align_self": null,
            "border": null,
            "bottom": null,
            "display": null,
            "flex": null,
            "flex_flow": null,
            "grid_area": null,
            "grid_auto_columns": null,
            "grid_auto_flow": null,
            "grid_auto_rows": null,
            "grid_column": null,
            "grid_gap": null,
            "grid_row": null,
            "grid_template_areas": null,
            "grid_template_columns": null,
            "grid_template_rows": null,
            "height": null,
            "justify_content": null,
            "justify_items": null,
            "left": null,
            "margin": null,
            "max_height": null,
            "max_width": null,
            "min_height": null,
            "min_width": null,
            "object_fit": null,
            "object_position": null,
            "order": null,
            "overflow": null,
            "overflow_x": null,
            "overflow_y": null,
            "padding": null,
            "right": null,
            "top": null,
            "visibility": null,
            "width": null
          }
        },
        "46a06620521e44d699e619b8df4fa3aa": {
          "model_module": "@jupyter-widgets/controls",
          "model_name": "DescriptionStyleModel",
          "model_module_version": "1.5.0",
          "state": {
            "_model_module": "@jupyter-widgets/controls",
            "_model_module_version": "1.5.0",
            "_model_name": "DescriptionStyleModel",
            "_view_count": null,
            "_view_module": "@jupyter-widgets/base",
            "_view_module_version": "1.2.0",
            "_view_name": "StyleView",
            "description_width": ""
          }
        },
        "6cccbc6b53434ce988bedae597f7a1a4": {
          "model_module": "@jupyter-widgets/base",
          "model_name": "LayoutModel",
          "model_module_version": "1.2.0",
          "state": {
            "_model_module": "@jupyter-widgets/base",
            "_model_module_version": "1.2.0",
            "_model_name": "LayoutModel",
            "_view_count": null,
            "_view_module": "@jupyter-widgets/base",
            "_view_module_version": "1.2.0",
            "_view_name": "LayoutView",
            "align_content": null,
            "align_items": null,
            "align_self": null,
            "border": null,
            "bottom": null,
            "display": null,
            "flex": null,
            "flex_flow": null,
            "grid_area": null,
            "grid_auto_columns": null,
            "grid_auto_flow": null,
            "grid_auto_rows": null,
            "grid_column": null,
            "grid_gap": null,
            "grid_row": null,
            "grid_template_areas": null,
            "grid_template_columns": null,
            "grid_template_rows": null,
            "height": null,
            "justify_content": null,
            "justify_items": null,
            "left": null,
            "margin": null,
            "max_height": null,
            "max_width": null,
            "min_height": null,
            "min_width": null,
            "object_fit": null,
            "object_position": null,
            "order": null,
            "overflow": null,
            "overflow_x": null,
            "overflow_y": null,
            "padding": null,
            "right": null,
            "top": null,
            "visibility": null,
            "width": null
          }
        },
        "184ffc467c9c4635b42356beb7c1721a": {
          "model_module": "@jupyter-widgets/controls",
          "model_name": "ProgressStyleModel",
          "model_module_version": "1.5.0",
          "state": {
            "_model_module": "@jupyter-widgets/controls",
            "_model_module_version": "1.5.0",
            "_model_name": "ProgressStyleModel",
            "_view_count": null,
            "_view_module": "@jupyter-widgets/base",
            "_view_module_version": "1.2.0",
            "_view_name": "StyleView",
            "bar_color": null,
            "description_width": ""
          }
        },
        "8d35508562fd482999bd355b6861e4b9": {
          "model_module": "@jupyter-widgets/base",
          "model_name": "LayoutModel",
          "model_module_version": "1.2.0",
          "state": {
            "_model_module": "@jupyter-widgets/base",
            "_model_module_version": "1.2.0",
            "_model_name": "LayoutModel",
            "_view_count": null,
            "_view_module": "@jupyter-widgets/base",
            "_view_module_version": "1.2.0",
            "_view_name": "LayoutView",
            "align_content": null,
            "align_items": null,
            "align_self": null,
            "border": null,
            "bottom": null,
            "display": null,
            "flex": null,
            "flex_flow": null,
            "grid_area": null,
            "grid_auto_columns": null,
            "grid_auto_flow": null,
            "grid_auto_rows": null,
            "grid_column": null,
            "grid_gap": null,
            "grid_row": null,
            "grid_template_areas": null,
            "grid_template_columns": null,
            "grid_template_rows": null,
            "height": null,
            "justify_content": null,
            "justify_items": null,
            "left": null,
            "margin": null,
            "max_height": null,
            "max_width": null,
            "min_height": null,
            "min_width": null,
            "object_fit": null,
            "object_position": null,
            "order": null,
            "overflow": null,
            "overflow_x": null,
            "overflow_y": null,
            "padding": null,
            "right": null,
            "top": null,
            "visibility": null,
            "width": null
          }
        },
        "70d95b9116da49d69fc23003aed40c52": {
          "model_module": "@jupyter-widgets/controls",
          "model_name": "DescriptionStyleModel",
          "model_module_version": "1.5.0",
          "state": {
            "_model_module": "@jupyter-widgets/controls",
            "_model_module_version": "1.5.0",
            "_model_name": "DescriptionStyleModel",
            "_view_count": null,
            "_view_module": "@jupyter-widgets/base",
            "_view_module_version": "1.2.0",
            "_view_name": "StyleView",
            "description_width": ""
          }
        }
      }
    }
  },
  "nbformat": 4,
  "nbformat_minor": 0
}